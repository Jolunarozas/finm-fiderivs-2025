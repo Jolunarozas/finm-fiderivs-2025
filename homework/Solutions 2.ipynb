{
 "cells": [
  {
   "cell_type": "markdown",
   "id": "eea1aff8",
   "metadata": {},
   "source": [
    "# **<span style=\"color:red\">Solutions 2</span>**\n",
    "\n",
    "## FINM 37500: Fixed Income Derivatives\n",
    "\n",
    "### Mark Hendricks\n",
    "\n",
    "#### Winter 2025"
   ]
  },
  {
   "cell_type": "markdown",
   "id": "0e879ec6",
   "metadata": {},
   "source": [
    "***"
   ]
  },
  {
   "cell_type": "markdown",
   "id": "f9d9f901",
   "metadata": {},
   "source": [
    "# 1."
   ]
  },
  {
   "cell_type": "markdown",
   "id": "c450e7d2",
   "metadata": {},
   "source": [
    "## Swaption Vol Data\n",
    "\n",
    "The file `data/swaption_vol_data_2025-01-31.xlsx` has market data on the implied volatility skews for swaptions. Note that it has several columns:\n",
    "* `expry`: expiration of the swaption\n",
    "* `tenor`: tenor of the underlying swap\n",
    "* `model`: the model by which the volatility is quoted. (All are Black.)\n",
    "* `-200`, `-100`, etc.: The strike listed as difference from ATM strike (bps). Note that ATM is considered to be the **forward swapa rate** which you can calculate."
   ]
  },
  {
   "cell_type": "markdown",
   "id": "32ef6430",
   "metadata": {},
   "source": [
    "Your data: ywill use a single row of this data for the `1x4` swaption.\n",
    "* date: `2025-01-31`\n",
    "* expiration: 1yr\n",
    "* tenor: 4yrs"
   ]
  },
  {
   "cell_type": "markdown",
   "id": "051b87a1",
   "metadata": {},
   "source": [
    "## Rate Data\n",
    "\n",
    "The file `data/cap_curves_2025-01-31.xlsx` gives \n",
    "* SOFR swap rates, \n",
    "* their associated discount factors\n",
    "* their associated forward interest rates.\n",
    "\n",
    "You will not need the cap data (flat or forward vols) for this problem."
   ]
  },
  {
   "cell_type": "markdown",
   "id": "52771ae5",
   "metadata": {},
   "source": [
    "## The Swaption\n",
    "\n",
    "Consider the following swaption with the following features:\n",
    "* underlying is a fixed-for-floating (SOFR) swap\n",
    "* the underlying swap has **quarterly** payment frequency\n",
    "* this is a **payer** swaption, which gives the holder the option to **pay** the fixed swap rate and receive SOFR."
   ]
  },
  {
   "cell_type": "markdown",
   "id": "f4420b0d",
   "metadata": {},
   "source": [
    "### 1.1\n",
    "Calculate the (relevant) forward swap rate. That is, the one-year forward 4-year swap rate.\n",
    "\n",
    "### 1.2\n",
    "Price the swaptions at the quoted implied volatilites and corresponding strikes, all using the just-calculated forward swap rate as the underlying.\n",
    "\n",
    "### 1.3\n",
    "To consider how the expiration and tenor matter, calculate the prices of a few other swaptions for comparison. \n",
    "* No need to get other implied vol quotes--just use the ATM implied vol you have for the swaption above. (Here we are just interested in how Black's formula changes with changes in tenor and expiration.)\n",
    "* No need to calculate for all the strikes--just do the ATM strike.\n",
    "\n",
    "Alternate swaptions\n",
    "* The 3mo x 4yr swaption\n",
    "* The 2yr x 4yr swaption\n",
    "* the 1yr x 2yr swaption\n",
    "\n",
    "Report these values and compare them to the price of the `1y x 4y` swaption."
   ]
  },
  {
   "cell_type": "markdown",
   "id": "201396ec",
   "metadata": {},
   "source": [
    "***"
   ]
  },
  {
   "cell_type": "markdown",
   "id": "bbe50b63",
   "metadata": {},
   "source": [
    "# **<span style=\"color:red\">Solutions</span>**"
   ]
  },
  {
   "cell_type": "code",
   "execution_count": null,
   "id": "45aaa361",
   "metadata": {
    "jupyter": {
     "source_hidden": true
    }
   },
   "outputs": [],
   "source": [
    "import numpy as np\n",
    "import pandas as pd\n",
    "import matplotlib.pyplot as plt\n",
    "\n",
    "from datetime import date\n",
    "from datetime import datetime\n",
    "\n",
    "import sys\n",
    "sys.path.insert(0, '../cmds')\n",
    "from ficcvol import *\n",
    "from ratecurves import *\n",
    "from treasury_cmds import compound_rate\n",
    "from volskew import *"
   ]
  },
  {
   "cell_type": "code",
   "execution_count": 2,
   "id": "0819432a",
   "metadata": {
    "jupyter": {
     "source_hidden": true
    },
    "scrolled": true
   },
   "outputs": [],
   "source": [
    "import datetime\n",
    "import warnings\n",
    "warnings.filterwarnings('ignore',category=FutureWarning)\n",
    "\n",
    "import matplotlib.pyplot as plt\n",
    "import seaborn as sns\n",
    "%matplotlib inline\n",
    "plt.rcParams['figure.figsize'] = (12,6)\n",
    "plt.rcParams['font.size'] = 15\n",
    "plt.rcParams['legend.fontsize'] = 13\n",
    "\n",
    "import matplotlib.ticker as mtick\n",
    "from matplotlib.ticker import (MultipleLocator,\n",
    "                               FormatStrFormatter,\n",
    "                               AutoMinorLocator)"
   ]
  },
  {
   "cell_type": "markdown",
   "id": "d48bab30",
   "metadata": {},
   "source": [
    "# **<span style=\"color:red\">Solution 1</span>**"
   ]
  },
  {
   "cell_type": "code",
   "execution_count": 3,
   "id": "748d321d",
   "metadata": {
    "jupyter": {
     "source_hidden": true
    }
   },
   "outputs": [],
   "source": [
    "DATE = '2025-01-31'\n",
    "freqcurve = 4\n",
    "\n",
    "SWAP_TYPE = 'SOFR'\n",
    "QUOTE_STYLE = 'black'\n",
    "RELATIVE_STRIKE = 0\n",
    "\n",
    "expry = 1\n",
    "tenor = 4\n",
    "\n",
    "freqswap = 4\n",
    "isPayer=True\n",
    "N = 100"
   ]
  },
  {
   "cell_type": "code",
   "execution_count": 4,
   "id": "cd52d643",
   "metadata": {
    "jupyter": {
     "source_hidden": true
    }
   },
   "outputs": [],
   "source": [
    "curves = pd.read_excel(f'../data/cap_curves_{DATE}.xlsx', sheet_name=f'rate curves {DATE}').set_index('tenor')\n",
    "\n",
    "Topt = expry\n",
    "Tswap = Topt+tenor\n",
    "\n",
    "fwdrate = curves['forwards'][Topt]\n",
    "\n",
    "fwdswap = calc_fwdswaprate(curves['discounts'], Topt, Tswap, freqswap=freqswap)"
   ]
  },
  {
   "cell_type": "markdown",
   "id": "c541564c",
   "metadata": {},
   "source": [
    "## **<span style=\"color:red\">1.1</span>**"
   ]
  },
  {
   "cell_type": "code",
   "execution_count": 5,
   "id": "801f6967",
   "metadata": {
    "jupyter": {
     "source_hidden": true
    }
   },
   "outputs": [
    {
     "data": {
      "text/plain": [
       "'The forward swap rate is 3.94%'"
      ]
     },
     "metadata": {},
     "output_type": "display_data"
    }
   ],
   "source": [
    "display(f'The forward swap rate is {fwdswap:.2%}')"
   ]
  },
  {
   "cell_type": "markdown",
   "id": "57d73ff3",
   "metadata": {},
   "source": [
    "## **<span style=\"color:red\">1.2</span>**"
   ]
  },
  {
   "cell_type": "markdown",
   "id": "7126dbf6",
   "metadata": {},
   "source": [
    "### Import and Process Quoted Vols"
   ]
  },
  {
   "cell_type": "code",
   "execution_count": 6,
   "id": "6198109a",
   "metadata": {
    "jupyter": {
     "source_hidden": true
    }
   },
   "outputs": [
    {
     "data": {
      "text/html": [
       "<div>\n",
       "<style scoped>\n",
       "    .dataframe tbody tr th:only-of-type {\n",
       "        vertical-align: middle;\n",
       "    }\n",
       "\n",
       "    .dataframe tbody tr th {\n",
       "        vertical-align: top;\n",
       "    }\n",
       "\n",
       "    .dataframe thead th {\n",
       "        text-align: right;\n",
       "    }\n",
       "</style>\n",
       "<table border=\"1\" class=\"dataframe\">\n",
       "  <thead>\n",
       "    <tr style=\"text-align: right;\">\n",
       "      <th></th>\n",
       "      <th>reference</th>\n",
       "      <th>instrument</th>\n",
       "      <th>model</th>\n",
       "      <th>date</th>\n",
       "      <th>expiration</th>\n",
       "      <th>tenor</th>\n",
       "      <th>-200</th>\n",
       "      <th>-100</th>\n",
       "      <th>-50</th>\n",
       "      <th>-25</th>\n",
       "      <th>0</th>\n",
       "      <th>25</th>\n",
       "      <th>50</th>\n",
       "      <th>100</th>\n",
       "      <th>200</th>\n",
       "    </tr>\n",
       "  </thead>\n",
       "  <tbody>\n",
       "    <tr>\n",
       "      <th>implied vol</th>\n",
       "      <td>SOFR</td>\n",
       "      <td>swaption</td>\n",
       "      <td>black</td>\n",
       "      <td>2025-01-31</td>\n",
       "      <td>1</td>\n",
       "      <td>4</td>\n",
       "      <td>42.13</td>\n",
       "      <td>31.51</td>\n",
       "      <td>28.15</td>\n",
       "      <td>26.89</td>\n",
       "      <td>25.9</td>\n",
       "      <td>25.16</td>\n",
       "      <td>24.66</td>\n",
       "      <td>24.23</td>\n",
       "      <td>24.73</td>\n",
       "    </tr>\n",
       "  </tbody>\n",
       "</table>\n",
       "</div>"
      ],
      "text/plain": [
       "            reference instrument  model       date  expiration  tenor   -200  \\\n",
       "implied vol      SOFR   swaption  black 2025-01-31           1      4  42.13   \n",
       "\n",
       "              -100    -50    -25     0     25     50    100    200  \n",
       "implied vol  31.51  28.15  26.89  25.9  25.16  24.66  24.23  24.73  "
      ]
     },
     "execution_count": 6,
     "metadata": {},
     "output_type": "execute_result"
    }
   ],
   "source": [
    "voldata = pd.read_excel(f'../data/swaption_vol_data_{DATE}.xlsx')\n",
    "volquote = voldata.query(f'model==\"{QUOTE_STYLE}\"').query(f'reference==\"{SWAP_TYPE}\"').query(f'date==\"{DATE}\"')\n",
    "idx = (volquote['expiration']==expry) & (volquote['tenor']==tenor)\n",
    "volquote = volquote.loc[idx]\n",
    "volquote.index = ['implied vol']\n",
    "\n",
    "volquote"
   ]
  },
  {
   "cell_type": "code",
   "execution_count": 7,
   "id": "0b3b1039",
   "metadata": {
    "jupyter": {
     "source_hidden": true
    }
   },
   "outputs": [],
   "source": [
    "strikerange = np.array(volquote.columns[-9:].tolist())\n",
    "vols = volquote[strikerange]\n",
    "vols /= 100\n",
    "strikes = fwdswap + strikerange/100/100\n",
    "idstrike = np.where(strikerange==RELATIVE_STRIKE)[0][0]\n",
    "\n",
    "idstrikeATM = np.where(strikerange==0)[0][0]\n",
    "\n",
    "if QUOTE_STYLE == 'normal':\n",
    "    vols /= 100 * fwdrate\n",
    "\n",
    "capvol = curves.loc[Topt,'fwd vols']\n",
    "\n",
    "strikeATM = strikes[idstrikeATM]\n",
    "volATM = vols.iloc[0,idstrikeATM]"
   ]
  },
  {
   "cell_type": "markdown",
   "id": "7fdfa18f",
   "metadata": {},
   "source": [
    "### Use Black's Formula"
   ]
  },
  {
   "cell_type": "code",
   "execution_count": 8,
   "id": "da2b45d8",
   "metadata": {
    "jupyter": {
     "source_hidden": true
    }
   },
   "outputs": [
    {
     "data": {
      "text/html": [
       "<style type=\"text/css\">\n",
       "</style>\n",
       "<table id=\"T_1dcb0\">\n",
       "  <thead>\n",
       "    <tr>\n",
       "      <th class=\"blank level0\" >&nbsp;</th>\n",
       "      <th id=\"T_1dcb0_level0_col0\" class=\"col_heading level0 col0\" >-200</th>\n",
       "      <th id=\"T_1dcb0_level0_col1\" class=\"col_heading level0 col1\" >-100</th>\n",
       "      <th id=\"T_1dcb0_level0_col2\" class=\"col_heading level0 col2\" >-50</th>\n",
       "      <th id=\"T_1dcb0_level0_col3\" class=\"col_heading level0 col3\" >-25</th>\n",
       "      <th id=\"T_1dcb0_level0_col4\" class=\"col_heading level0 col4\" >0</th>\n",
       "      <th id=\"T_1dcb0_level0_col5\" class=\"col_heading level0 col5\" >25</th>\n",
       "      <th id=\"T_1dcb0_level0_col6\" class=\"col_heading level0 col6\" >50</th>\n",
       "      <th id=\"T_1dcb0_level0_col7\" class=\"col_heading level0 col7\" >100</th>\n",
       "      <th id=\"T_1dcb0_level0_col8\" class=\"col_heading level0 col8\" >200</th>\n",
       "    </tr>\n",
       "  </thead>\n",
       "  <tbody>\n",
       "    <tr>\n",
       "      <th id=\"T_1dcb0_level0_row0\" class=\"row_heading level0 row0\" >strike</th>\n",
       "      <td id=\"T_1dcb0_row0_col0\" class=\"data row0 col0\" >1.94%</td>\n",
       "      <td id=\"T_1dcb0_row0_col1\" class=\"data row0 col1\" >2.94%</td>\n",
       "      <td id=\"T_1dcb0_row0_col2\" class=\"data row0 col2\" >3.44%</td>\n",
       "      <td id=\"T_1dcb0_row0_col3\" class=\"data row0 col3\" >3.69%</td>\n",
       "      <td id=\"T_1dcb0_row0_col4\" class=\"data row0 col4\" >3.94%</td>\n",
       "      <td id=\"T_1dcb0_row0_col5\" class=\"data row0 col5\" >4.19%</td>\n",
       "      <td id=\"T_1dcb0_row0_col6\" class=\"data row0 col6\" >4.44%</td>\n",
       "      <td id=\"T_1dcb0_row0_col7\" class=\"data row0 col7\" >4.94%</td>\n",
       "      <td id=\"T_1dcb0_row0_col8\" class=\"data row0 col8\" >5.94%</td>\n",
       "    </tr>\n",
       "    <tr>\n",
       "      <th id=\"T_1dcb0_level0_row1\" class=\"row_heading level0 row1\" >implied vol</th>\n",
       "      <td id=\"T_1dcb0_row1_col0\" class=\"data row1 col0\" >42.13%</td>\n",
       "      <td id=\"T_1dcb0_row1_col1\" class=\"data row1 col1\" >31.51%</td>\n",
       "      <td id=\"T_1dcb0_row1_col2\" class=\"data row1 col2\" >28.15%</td>\n",
       "      <td id=\"T_1dcb0_row1_col3\" class=\"data row1 col3\" >26.89%</td>\n",
       "      <td id=\"T_1dcb0_row1_col4\" class=\"data row1 col4\" >25.90%</td>\n",
       "      <td id=\"T_1dcb0_row1_col5\" class=\"data row1 col5\" >25.16%</td>\n",
       "      <td id=\"T_1dcb0_row1_col6\" class=\"data row1 col6\" >24.66%</td>\n",
       "      <td id=\"T_1dcb0_row1_col7\" class=\"data row1 col7\" >24.23%</td>\n",
       "      <td id=\"T_1dcb0_row1_col8\" class=\"data row1 col8\" >24.73%</td>\n",
       "    </tr>\n",
       "    <tr>\n",
       "      <th id=\"T_1dcb0_level0_row2\" class=\"row_heading level0 row2\" >price</th>\n",
       "      <td id=\"T_1dcb0_row2_col0\" class=\"data row2 col0\" >7.16</td>\n",
       "      <td id=\"T_1dcb0_row2_col1\" class=\"data row2 col1\" >3.90</td>\n",
       "      <td id=\"T_1dcb0_row2_col2\" class=\"data row2 col2\" >2.51</td>\n",
       "      <td id=\"T_1dcb0_row2_col3\" class=\"data row2 col3\" >1.93</td>\n",
       "      <td id=\"T_1dcb0_row2_col4\" class=\"data row2 col4\" >1.44</td>\n",
       "      <td id=\"T_1dcb0_row2_col5\" class=\"data row2 col5\" >1.04</td>\n",
       "      <td id=\"T_1dcb0_row2_col6\" class=\"data row2 col6\" >0.74</td>\n",
       "      <td id=\"T_1dcb0_row2_col7\" class=\"data row2 col7\" >0.36</td>\n",
       "      <td id=\"T_1dcb0_row2_col8\" class=\"data row2 col8\" >0.08</td>\n",
       "    </tr>\n",
       "  </tbody>\n",
       "</table>\n"
      ],
      "text/plain": [
       "<pandas.io.formats.style.Styler at 0x2d9433c6c60>"
      ]
     },
     "execution_count": 8,
     "metadata": {},
     "output_type": "execute_result"
    }
   ],
   "source": [
    "period_fwd = curves.index.get_loc(Topt)\n",
    "period_swap = curves.index.get_loc(Tswap)+1\n",
    "step = round(freqcurve/freqswap)\n",
    "\n",
    "discount = curves['discounts'].iloc[period_fwd+step : period_swap : step].sum()/freqswap\n",
    "blacks_quotes = vols.copy()\n",
    "blacks_quotes.loc['price'] = N * blacks_formula(Topt,vols,strikes,fwdswap,discount,isCall=isPayer)[0]\n",
    "blacks_quotes.loc['strike'] = strikes\n",
    "blacks_quotes = blacks_quotes.loc[['strike','implied vol','price']]\n",
    "\n",
    "blacks_quotes.style.format('{:.2%}').format('{:.2f}',subset=pd.IndexSlice['price',:])"
   ]
  },
  {
   "cell_type": "markdown",
   "id": "79c9af3d",
   "metadata": {},
   "source": [
    "## **<span style=\"color:red\">1.3</span>**"
   ]
  },
  {
   "cell_type": "code",
   "execution_count": 9,
   "id": "6ec00037",
   "metadata": {
    "jupyter": {
     "source_hidden": true
    }
   },
   "outputs": [
    {
     "data": {
      "text/html": [
       "<style type=\"text/css\">\n",
       "#T_34826_row1_col0, #T_34826_row1_col1, #T_34826_row1_col2 {\n",
       "  background-color: gray;\n",
       "}\n",
       "</style>\n",
       "<table id=\"T_34826\">\n",
       "  <thead>\n",
       "    <tr>\n",
       "      <th class=\"blank level0\" >&nbsp;</th>\n",
       "      <th id=\"T_34826_level0_col0\" class=\"col_heading level0 col0\" >expiry</th>\n",
       "      <th id=\"T_34826_level0_col1\" class=\"col_heading level0 col1\" >tenor</th>\n",
       "      <th id=\"T_34826_level0_col2\" class=\"col_heading level0 col2\" >price</th>\n",
       "    </tr>\n",
       "  </thead>\n",
       "  <tbody>\n",
       "    <tr>\n",
       "      <th id=\"T_34826_level0_row0\" class=\"row_heading level0 row0\" >0</th>\n",
       "      <td id=\"T_34826_row0_col0\" class=\"data row0 col0\" >0.25</td>\n",
       "      <td id=\"T_34826_row0_col1\" class=\"data row0 col1\" >4.00</td>\n",
       "      <td id=\"T_34826_row0_col2\" class=\"data row0 col2\" >0.76</td>\n",
       "    </tr>\n",
       "    <tr>\n",
       "      <th id=\"T_34826_level0_row1\" class=\"row_heading level0 row1\" >1</th>\n",
       "      <td id=\"T_34826_row1_col0\" class=\"data row1 col0\" >1.00</td>\n",
       "      <td id=\"T_34826_row1_col1\" class=\"data row1 col1\" >4.00</td>\n",
       "      <td id=\"T_34826_row1_col2\" class=\"data row1 col2\" >1.44</td>\n",
       "    </tr>\n",
       "    <tr>\n",
       "      <th id=\"T_34826_level0_row2\" class=\"row_heading level0 row2\" >2</th>\n",
       "      <td id=\"T_34826_row2_col0\" class=\"data row2 col0\" >2.00</td>\n",
       "      <td id=\"T_34826_row2_col1\" class=\"data row2 col1\" >4.00</td>\n",
       "      <td id=\"T_34826_row2_col2\" class=\"data row2 col2\" >2.03</td>\n",
       "    </tr>\n",
       "    <tr>\n",
       "      <th id=\"T_34826_level0_row3\" class=\"row_heading level0 row3\" >3</th>\n",
       "      <td id=\"T_34826_row3_col0\" class=\"data row3 col0\" >1.00</td>\n",
       "      <td id=\"T_34826_row3_col1\" class=\"data row3 col1\" >2.00</td>\n",
       "      <td id=\"T_34826_row3_col2\" class=\"data row3 col2\" >0.70</td>\n",
       "    </tr>\n",
       "  </tbody>\n",
       "</table>\n"
      ],
      "text/plain": [
       "<pandas.io.formats.style.Styler at 0x2d943b1fc50>"
      ]
     },
     "execution_count": 9,
     "metadata": {},
     "output_type": "execute_result"
    }
   ],
   "source": [
    "expiries = [.25,1,2,1]\n",
    "tenors = [4,4,4,2]\n",
    "fwdswaps = np.full(len(expiries),np.nan)\n",
    "\n",
    "blacks_quotes_alt = pd.DataFrame(dtype=float,columns=['expiry','tenor','price'])\n",
    "    \n",
    "for i in range(len(fwdswaps)):\n",
    "    fwdswaps[i] = calc_fwdswaprate(curves['discounts'], expiries[i], expiries[i]+tenors[i], freqswap=freqswap)\n",
    "    \n",
    "    period0 = curves.index.get_loc(expiries[i])\n",
    "    period1 = curves.index.get_loc(expiries[i]+tenors[i])+1\n",
    "    step_i = round(freqcurve/freqswap)\n",
    "\n",
    "    discount_i = curves['discounts'].iloc[period0+step_i : period1 : step_i].sum()/freqswap\n",
    "\n",
    "    blacks_quotes_alt.loc[i,['expiry','tenor']] = [expiries[i],tenors[i]]\n",
    "    blacks_quotes_alt.loc[i,'price'] = N * blacks_formula(expiries[i],volATM,strikeATM,fwdswaps[i],discount_i,isCall=isPayer)\n",
    "\n",
    "    \n",
    "def highlight_row(row):\n",
    "    if row.name == 1:\n",
    "        return ['background-color: gray'] * len(row)\n",
    "    else:\n",
    "        return [''] * len(row)\n",
    "    \n",
    "blacks_quotes_alt.style.apply(highlight_row,axis=1).format({'expiry':'{:.2f}', 'tenor':'{:.2f}', 'price':'{:.2f}'})"
   ]
  },
  {
   "cell_type": "markdown",
   "id": "f6b1043f",
   "metadata": {},
   "source": [
    "***"
   ]
  },
  {
   "cell_type": "markdown",
   "id": "c80b48bb",
   "metadata": {},
   "source": [
    "# 2. SABR Volatility Modeling"
   ]
  },
  {
   "cell_type": "markdown",
   "id": "bfb69565",
   "metadata": {},
   "source": [
    "Use the quoted volatility skew to fit a SABR model.\n",
    "* Throughout, parameterize, `beta=.75`."
   ]
  },
  {
   "cell_type": "markdown",
   "id": "7259f005",
   "metadata": {},
   "source": [
    "### 2.1.\n",
    "Estimate $(\\alpha,\\rho,\\nu)$ via the SABR formula. Feel free to use the `sabr` function in `cmds/volskew.py`.\n",
    "\n",
    "Report the values of these parameters."
   ]
  },
  {
   "cell_type": "markdown",
   "id": "f28d54c7",
   "metadata": {},
   "source": [
    "### 2.2.\n",
    "Create a grid of strikes of `[.0025, .09]`, with grid spacing of `10bps`, (.0010).\n",
    "\n",
    "Use the SABR model parameterized above to calculate the volatility for each of these strikes.\n",
    "\n",
    "* Plot the SABR curve, and also include the market quotes in the plot.\n",
    "\n",
    "* Conceptually, does the SABR curve fit these points well? Perfectly?"
   ]
  },
  {
   "cell_type": "markdown",
   "id": "8db71caf",
   "metadata": {},
   "source": [
    "### 2.3.\n",
    "Suppose we want to price the `1y4y` swaption but with a far out-of-the-money strike of `5%`. \n",
    "\n",
    "* Use the SABR vol at this strike to price the swaption.\n",
    "\n",
    "(Note that this strike is far outside the range for which we have market quotes, and even if we do have quotes, they likely are not liquid on a given day.)\n",
    "\n"
   ]
  },
  {
   "cell_type": "markdown",
   "id": "6ba6d8e7",
   "metadata": {},
   "source": [
    "### 2.4.\n",
    "\n",
    "Use the ATM implied volatility to fit $\\alpha$, (sometimes denoted $\\sigma_0$.) That is, for any choice of $(\\rho,\\nu)$, solve a quadratic equation to get $\\alpha$ as a function of those two parameters, along with $\\beta$, which is at its selected (not estimated) value.\n",
    "\n",
    "Recall that we have a simple relationship between ATM vol and $\\alpha$.\n",
    "$$\\sigma_\\text{ATM} = \\alpha\\frac{B}{F^{1-\\beta}}$$\n",
    "where $B$ is defined in the discussion note. It is a quadratic expression of $\\alpha$ along with $(\\beta,\\rho,\\nu)$.\n",
    "\n",
    "This decouples the optimization. We solve for $(\\rho,\\nu)$ and $\\alpha$ as a function of the other two parameters.\n",
    "\n",
    "Consider using the function `sabrATM` in `cmds/volskew.py`."
   ]
  },
  {
   "cell_type": "markdown",
   "id": "f9478c65",
   "metadata": {},
   "source": [
    "***"
   ]
  },
  {
   "cell_type": "markdown",
   "id": "aff1bae3",
   "metadata": {},
   "source": [
    "# **<span style=\"color:red\">Solution 2</span>**"
   ]
  },
  {
   "cell_type": "code",
   "execution_count": 25,
   "id": "e678f4b9",
   "metadata": {},
   "outputs": [],
   "source": [
    "def obj_fun(xargs):\n",
    "    nu = xargs[0]\n",
    "    rho = xargs[1]\n",
    "    alpha = xargs[2]\n",
    "    \n",
    "    ivolSABR = np.zeros(len(strikes))\n",
    "    \n",
    "    for i,strike in enumerate(strikes):\n",
    "         ivolSABR[i] = sabr(BETA,nu,rho,alpha,F,strike,Topt)\n",
    "    \n",
    "    error = ((ivolSABR - vols.values)**2).sum()\n",
    "    \n",
    "    return error\n",
    "\n",
    "\n",
    "def obj_fun_slim(xargs):\n",
    "    nu = xargs[0]\n",
    "    rho = xargs[1]\n",
    "    ivolSABR = np.zeros(len(strikes))\n",
    "    \n",
    "    for i,strike in enumerate(strikes):\n",
    "         ivolSABR[i] = sabr_slim(BETA,nu,rho,F,strike,Topt,volATM)\n",
    "    \n",
    "    error = ((ivolSABR - vols.values)**2).sum()\n",
    "    \n",
    "    return error"
   ]
  },
  {
   "cell_type": "code",
   "execution_count": 26,
   "id": "d64f6630",
   "metadata": {},
   "outputs": [],
   "source": [
    "doSLIM = False\n",
    "BETA = 0.75\n",
    "F = fwdswap-1e-8"
   ]
  },
  {
   "cell_type": "code",
   "execution_count": 27,
   "id": "a5b9afcf",
   "metadata": {},
   "outputs": [
    {
     "data": {
      "text/html": [
       "<div>\n",
       "<style scoped>\n",
       "    .dataframe tbody tr th:only-of-type {\n",
       "        vertical-align: middle;\n",
       "    }\n",
       "\n",
       "    .dataframe tbody tr th {\n",
       "        vertical-align: top;\n",
       "    }\n",
       "\n",
       "    .dataframe thead th {\n",
       "        text-align: right;\n",
       "    }\n",
       "</style>\n",
       "<table border=\"1\" class=\"dataframe\">\n",
       "  <thead>\n",
       "    <tr style=\"text-align: right;\">\n",
       "      <th></th>\n",
       "      <th>-200</th>\n",
       "      <th>-100</th>\n",
       "      <th>-50</th>\n",
       "      <th>-25</th>\n",
       "      <th>0</th>\n",
       "      <th>25</th>\n",
       "      <th>50</th>\n",
       "      <th>100</th>\n",
       "      <th>200</th>\n",
       "    </tr>\n",
       "  </thead>\n",
       "  <tbody>\n",
       "    <tr>\n",
       "      <th>implied vol</th>\n",
       "      <td>0.4213</td>\n",
       "      <td>0.3151</td>\n",
       "      <td>0.2815</td>\n",
       "      <td>0.2689</td>\n",
       "      <td>0.259</td>\n",
       "      <td>0.2516</td>\n",
       "      <td>0.2466</td>\n",
       "      <td>0.2423</td>\n",
       "      <td>0.2473</td>\n",
       "    </tr>\n",
       "  </tbody>\n",
       "</table>\n",
       "</div>"
      ],
      "text/plain": [
       "               -200    -100     -50     -25      0      25      50     100  \\\n",
       "implied vol  0.4213  0.3151  0.2815  0.2689  0.259  0.2516  0.2466  0.2423   \n",
       "\n",
       "                200  \n",
       "implied vol  0.2473  "
      ]
     },
     "execution_count": 27,
     "metadata": {},
     "output_type": "execute_result"
    }
   ],
   "source": [
    "vols"
   ]
  },
  {
   "cell_type": "code",
   "execution_count": 28,
   "id": "f0461083",
   "metadata": {},
   "outputs": [
    {
     "data": {
      "text/plain": [
       "0.259"
      ]
     },
     "execution_count": 28,
     "metadata": {},
     "output_type": "execute_result"
    }
   ],
   "source": [
    "volATM"
   ]
  },
  {
   "cell_type": "code",
   "execution_count": 29,
   "id": "9da32455",
   "metadata": {},
   "outputs": [],
   "source": [
    "if not doSLIM:\n",
    "    x0 = np.array([.6,0,.1])\n",
    "    fun = obj_fun\n",
    "else:\n",
    "    fun = obj_fun_slim\n",
    "    x0 = np.array([.6,0,.1])\n",
    "\n",
    "optim = minimize(fun,x0)\n",
    "xstar = optim.x\n",
    "nustar = xstar[0]\n",
    "rhostar = xstar[1]\n",
    "   \n",
    "if doSLIM:\n",
    "    alphastar = solve_alpha(BETA,nustar,rhostar,Topt,volATM,F)\n",
    "    ivolSABR = sabr_slim(BETA,nustar,rhostar,F,strikes,Topt,volATM)\n",
    "else:\n",
    "    alphastar = xstar[2]\n",
    "    ivolSABR = sabr(BETA,nustar,rhostar,alphastar,F,strikes,Topt)\n",
    "    \n",
    "error = optim.fun"
   ]
  },
  {
   "cell_type": "markdown",
   "id": "7e483632",
   "metadata": {},
   "source": [
    "### **<span style=\"color:red\">2.1</span>**"
   ]
  },
  {
   "cell_type": "code",
   "execution_count": 30,
   "id": "f994e537",
   "metadata": {},
   "outputs": [
    {
     "data": {
      "text/html": [
       "<style type=\"text/css\">\n",
       "</style>\n",
       "<table id=\"T_34242\">\n",
       "  <thead>\n",
       "    <tr>\n",
       "      <th class=\"blank level0\" >&nbsp;</th>\n",
       "      <th id=\"T_34242_level0_col0\" class=\"col_heading level0 col0\" >SABR Parameters</th>\n",
       "    </tr>\n",
       "  </thead>\n",
       "  <tbody>\n",
       "    <tr>\n",
       "      <th id=\"T_34242_level0_row0\" class=\"row_heading level0 row0\" >beta ($\\beta$)</th>\n",
       "      <td id=\"T_34242_row0_col0\" class=\"data row0 col0\" >0.7500</td>\n",
       "    </tr>\n",
       "    <tr>\n",
       "      <th id=\"T_34242_level0_row1\" class=\"row_heading level0 row1\" >alpha ($\\alpha$)</th>\n",
       "      <td id=\"T_34242_row1_col0\" class=\"data row1 col0\" >0.1128</td>\n",
       "    </tr>\n",
       "    <tr>\n",
       "      <th id=\"T_34242_level0_row2\" class=\"row_heading level0 row2\" >nu ($\\nu$)</th>\n",
       "      <td id=\"T_34242_row2_col0\" class=\"data row2 col0\" >0.6914</td>\n",
       "    </tr>\n",
       "    <tr>\n",
       "      <th id=\"T_34242_level0_row3\" class=\"row_heading level0 row3\" >rho ($\\rho$)</th>\n",
       "      <td id=\"T_34242_row3_col0\" class=\"data row3 col0\" >-0.3448</td>\n",
       "    </tr>\n",
       "    <tr>\n",
       "      <th id=\"T_34242_level0_row4\" class=\"row_heading level0 row4\" >fit error</th>\n",
       "      <td id=\"T_34242_row4_col0\" class=\"data row4 col0\" >0.0000</td>\n",
       "    </tr>\n",
       "  </tbody>\n",
       "</table>\n"
      ],
      "text/plain": [
       "<pandas.io.formats.style.Styler at 0x2d943767380>"
      ]
     },
     "execution_count": 30,
     "metadata": {},
     "output_type": "execute_result"
    }
   ],
   "source": [
    "param = pd.DataFrame([BETA,alphastar,nustar,rhostar,error],index=['beta ($\\\\beta$)','alpha ($\\\\alpha$)','nu ($\\\\nu$)','rho ($\\\\rho$)','fit error'],columns=['SABR Parameters']).style.format('{:.4f}')\n",
    "param"
   ]
  },
  {
   "cell_type": "markdown",
   "id": "28e6f161",
   "metadata": {},
   "source": [
    "### **<span style=\"color:red\">2.2</span>**"
   ]
  },
  {
   "cell_type": "code",
   "execution_count": 31,
   "id": "9423e6fc",
   "metadata": {},
   "outputs": [
    {
     "data": {
      "image/png": "[encoded data removed]",
      "text/plain": [
       "<Figure size 1200x600 with 1 Axes>"
      ]
     },
     "metadata": {},
     "output_type": "display_data"
    }
   ],
   "source": [
    "strikegrid = np.arange(.0025,.09,.0005)\n",
    "if doSLIM:\n",
    "    ivolgrid = sabr_slim(BETA,nustar,rhostar,F,strikegrid,Topt,volATM)\n",
    "else:\n",
    "    ivolgrid = sabr(BETA,nustar,rhostar,alphastar,F,strikegrid,Topt)\n",
    "    \n",
    "sabrcurve = pd.DataFrame(ivolgrid,index=strikegrid,columns=['SABR'])\n",
    "\n",
    "volquotes = vols.copy()\n",
    "volquotes.loc['strike'] = strikes\n",
    "volquotes = volquotes.T.set_index('strike').rename(columns={'implied vol':'market quotes'})\n",
    "\n",
    "fig, ax = plt.subplots()\n",
    "sabrcurve.plot(ax=ax)\n",
    "volquotes.plot(linestyle='',marker='o',markersize=8,ax=ax)\n",
    "plt.legend();"
   ]
  },
  {
   "cell_type": "markdown",
   "id": "d3261526",
   "metadata": {},
   "source": [
    "### **<span style=\"color:red\">2.3</span>**"
   ]
  },
  {
   "cell_type": "code",
   "execution_count": 32,
   "id": "091873a6",
   "metadata": {},
   "outputs": [
    {
     "data": {
      "text/plain": [
       "'Price of the OTM swaption at strike 5.00% is $0.3179.'"
      ]
     },
     "metadata": {},
     "output_type": "display_data"
    }
   ],
   "source": [
    "NEWSTRIKE = .05\n",
    "\n",
    "if doSLIM:\n",
    "    newvol = sabr_slim(BETA,nustar,rhostar,F,NEWSTRIKE,Topt,volATM)\n",
    "else:\n",
    "    newvol = sabr(BETA,nustar,rhostar,alphastar,F,NEWSTRIKE,Topt)\n",
    "\n",
    "newprice = N * blacks_formula(Topt,newvol,NEWSTRIKE,fwdswap,discount,isCall=isPayer)\n",
    "display(f'Price of the OTM swaption at strike {NEWSTRIKE:.2%} is ${newprice:.4f}.')"
   ]
  },
  {
   "cell_type": "markdown",
   "id": "cbf6868b",
   "metadata": {},
   "source": [
    "### **<span style=\"color:red\">2.4</span>**\n",
    "\n",
    "Set the parameter `doSLIM` to `True`, and rerun the code."
   ]
  },
  {
   "cell_type": "markdown",
   "id": "ceb1a549",
   "metadata": {},
   "source": [
    "***"
   ]
  },
  {
   "cell_type": "markdown",
   "id": "4b650a96",
   "metadata": {},
   "source": [
    "# 3. SABR and Risk Management"
   ]
  },
  {
   "cell_type": "markdown",
   "id": "dbb8cbb1",
   "metadata": {},
   "source": [
    "Consider how an **increase** of `50bps` in the underlying rate impacts the price of the `1y4y` ATM swaption.\n",
    "\n",
    "Here, we are assuming that\n",
    "* the rate change will impact the forward swap rate directly, one-for-one with other rates.\n",
    "* the shift happens one week after the original quote date.\n",
    "\n",
    "Of course, in reality, a rate change\n",
    "* may price in early to some degree if it is expected\n",
    "* may not impact the forward swap rate one-for-one. We would need to model how the discount curve changes and what that change (level, slope, curvature?) would do to the forward swap rate."
   ]
  },
  {
   "cell_type": "markdown",
   "id": "047fb430",
   "metadata": {},
   "source": [
    "### 3.1\n",
    "\n",
    "Use Black's equation to re-price the `1y4y` swaption with\n",
    "* the same ATM volatility\n",
    "* an underlying (forward swap) rate `increased` `50bps`.\n",
    "* the same time-to-maturities. (We should decrease these all by 1/365, but we focus here on the delta effects rather than the theta. And it would be a small impact anyone.)\n",
    "\n",
    "Report \n",
    "* the new price\n",
    "* the change in price divided by `50bps`, (a numerical delta.)"
   ]
  },
  {
   "cell_type": "markdown",
   "id": "0d296068",
   "metadata": {},
   "source": [
    "### 3.2\n",
    "\n",
    "Now, we consider how the volatility may change with the underlying shift `up` of `50bps`.\n",
    "\n",
    "Using the same SABR parameters from `2.1`, and the strike grid from `2.2`, plot the new SABR curve accounting for the underlying rate shifting `up` `50bps`."
   ]
  },
  {
   "cell_type": "markdown",
   "id": "2fcda8b9",
   "metadata": {},
   "source": [
    "### 3.3\n",
    "\n",
    "Calculate the new volatility specifically for the pre-shift ATM strike.\n",
    "\n",
    "Use this in Black's formula similar to `3.1`, where the only change is the volatility now reflects the shift in the underlying (not the strike).\n",
    "\n",
    "Report\n",
    "* the new price\n",
    "* the change in price divided by `50bps`"
   ]
  },
  {
   "cell_type": "markdown",
   "id": "b1210951",
   "metadata": {},
   "source": [
    "### 3.4\n",
    "\n",
    "How much different is the (dynamic) delta which accounts for the shift in volatility from the (static) delta in `3.1`?"
   ]
  },
  {
   "cell_type": "markdown",
   "id": "ba259807",
   "metadata": {},
   "source": [
    "***"
   ]
  },
  {
   "cell_type": "markdown",
   "id": "5966cabf",
   "metadata": {},
   "source": [
    "# **<span style=\"color:red\">Solution 3</span>**"
   ]
  },
  {
   "cell_type": "markdown",
   "id": "796dfb7d",
   "metadata": {},
   "source": [
    "### **<span style=\"color:red\">3.1</span>**"
   ]
  },
  {
   "cell_type": "code",
   "execution_count": null,
   "id": "e54293c2",
   "metadata": {},
   "outputs": [
    {
     "data": {
      "image/png": "[encoded data removed]",
      "text/plain": [
       "<Figure size 1200x600 with 1 Axes>"
      ]
     },
     "metadata": {},
     "output_type": "display_data"
    }
   ],
   "source": [
    "warnings.filterwarnings('ignore')\n",
    "\n",
    "SHIFT = +50/100/100\n",
    "\n",
    "sabrcurve.rename(columns={'SABR':f'SABR: underlying at {DATE}'},inplace=True)\n",
    "if doSLIM:\n",
    "    sabrcurve[f'SABR: underlying + {SHIFT*100*100:.0f}bps'] = sabr_slim(BETA,nustar,rhostar,F+SHIFT,strikegrid,Topt,volATM)\n",
    "else:\n",
    "    sabrcurve[f'SABR: underlying + {SHIFT*100*100:.0f}bps'] = sabr(BETA,nustar,rhostar,alphastar,F+SHIFT,strikegrid,Topt)\n",
    "\n",
    "fig, ax = plt.subplots()\n",
    "sabrcurve.plot(ax=ax)\n",
    "plt.xlim([F-.01,F+.01])\n",
    "plt.ylim([volATM-.05,volATM+.05])\n",
    "plt.axvline(F,color='k',linestyle='--',label=f'underlying at {DATE}')\n",
    "plt.axvline(F+SHIFT,color='k',linestyle=':',label=f'underlying + {SHIFT*100*100:.0f}bps')\n",
    "plt.ylabel('swaption implied volatility');\n",
    "plt.xlabel('strike')\n",
    "plt.legend();"
   ]
  },
  {
   "cell_type": "markdown",
   "id": "08e132bd",
   "metadata": {},
   "source": [
    "### **<span style=\"color:red\">3.2, 3.3, 3.4</span>**"
   ]
  },
  {
   "cell_type": "code",
   "execution_count": 36,
   "id": "9cfe9b27",
   "metadata": {},
   "outputs": [],
   "source": [
    "idloc = (sabrcurve.index.to_series()-fwdswap).abs().idxmin()\n",
    "\n",
    "newvols = sabrcurve.loc[idloc]\n",
    "strikeATM = strikes[idstrikeATM]\n",
    "\n",
    "Frange = F + [0,SHIFT]"
   ]
  },
  {
   "cell_type": "code",
   "execution_count": 18,
   "id": "58e25cd4",
   "metadata": {},
   "outputs": [
    {
     "data": {
      "text/html": [
       "<style type=\"text/css\">\n",
       "</style>\n",
       "<table id=\"T_75153\">\n",
       "  <thead>\n",
       "    <tr>\n",
       "      <th class=\"blank level0\" >&nbsp;</th>\n",
       "      <th id=\"T_75153_level0_col0\" class=\"col_heading level0 col0\" >no change in rates</th>\n",
       "      <th id=\"T_75153_level0_col1\" class=\"col_heading level0 col1\" >shift in rates</th>\n",
       "    </tr>\n",
       "  </thead>\n",
       "  <tbody>\n",
       "    <tr>\n",
       "      <th id=\"T_75153_level0_row0\" class=\"row_heading level0 row0\" >no change in vol</th>\n",
       "      <td id=\"T_75153_row0_col0\" class=\"data row0 col0\" >0.39</td>\n",
       "      <td id=\"T_75153_row0_col1\" class=\"data row0 col1\" >0.90</td>\n",
       "    </tr>\n",
       "    <tr>\n",
       "      <th id=\"T_75153_level0_row1\" class=\"row_heading level0 row1\" >dynamic vol</th>\n",
       "      <td id=\"T_75153_row1_col0\" class=\"data row1 col0\" >nan</td>\n",
       "      <td id=\"T_75153_row1_col1\" class=\"data row1 col1\" >0.98</td>\n",
       "    </tr>\n",
       "  </tbody>\n",
       "</table>\n"
      ],
      "text/plain": [
       "<pandas.io.formats.style.Styler at 0x130da0190>"
      ]
     },
     "execution_count": 18,
     "metadata": {},
     "output_type": "execute_result"
    }
   ],
   "source": [
    "period_fwd = curves.index.get_loc(Topt)\n",
    "period_swap = curves.index.get_loc(Tswap)+1\n",
    "step = round(freqcurve/freqswap)\n",
    "\n",
    "discount = curves['discounts'].iloc[period_fwd+step : period_swap : step].sum()/freqswap\n",
    "\n",
    "blackprices = pd.Series(N * blacks_formula(Topt, newvols[0],NEWSTRIKE,Frange,discount,isCall=isPayer), index=['no change in rates','shift in rates'], name='no change in vol').to_frame().T\n",
    "blackprices.loc['dynamic vol','shift in rates'] = N * blacks_formula(Topt, newvols[1],NEWSTRIKE,Frange[1],discount,isCall=isPayer)\n",
    "blackprices.style.format('{:.2f}')"
   ]
  },
  {
   "cell_type": "code",
   "execution_count": 19,
   "id": "fa420acb",
   "metadata": {},
   "outputs": [
    {
     "data": {
      "text/html": [
       "<style type=\"text/css\">\n",
       "</style>\n",
       "<table id=\"T_08b69\">\n",
       "  <thead>\n",
       "    <tr>\n",
       "      <th class=\"blank level0\" >&nbsp;</th>\n",
       "      <th id=\"T_08b69_level0_col0\" class=\"col_heading level0 col0\" >price change</th>\n",
       "    </tr>\n",
       "  </thead>\n",
       "  <tbody>\n",
       "    <tr>\n",
       "      <th id=\"T_08b69_level0_row0\" class=\"row_heading level0 row0\" >no change in vol</th>\n",
       "      <td id=\"T_08b69_row0_col0\" class=\"data row0 col0\" >102.52</td>\n",
       "    </tr>\n",
       "    <tr>\n",
       "      <th id=\"T_08b69_level0_row1\" class=\"row_heading level0 row1\" >dynamic vol</th>\n",
       "      <td id=\"T_08b69_row1_col0\" class=\"data row1 col0\" >119.04</td>\n",
       "    </tr>\n",
       "  </tbody>\n",
       "</table>\n"
      ],
      "text/plain": [
       "<pandas.io.formats.style.Styler at 0x130da02d0>"
      ]
     },
     "execution_count": 19,
     "metadata": {},
     "output_type": "execute_result"
    }
   ],
   "source": [
    "dprices = (blackprices[['shift in rates']] - blackprices.loc['no change in vol','no change in rates']).rename(columns={'shift in rates':'price change'})\n",
    "delta = dprices / SHIFT\n",
    "delta.style.format('{:.2f}')"
   ]
  },
  {
   "cell_type": "code",
   "execution_count": 20,
   "id": "720156e9",
   "metadata": {},
   "outputs": [
    {
     "data": {
      "text/plain": [
       "'Relative change to delta:  16.11%.'"
      ]
     },
     "metadata": {},
     "output_type": "display_data"
    }
   ],
   "source": [
    "delta_relative_change = delta.pct_change().loc['dynamic vol','price change']\n",
    "display(f'Relative change to delta: {delta_relative_change : .2%}.')"
   ]
  },
  {
   "cell_type": "code",
   "execution_count": null,
   "id": "bb997503",
   "metadata": {},
   "outputs": [],
   "source": []
  },
  {
   "cell_type": "code",
   "execution_count": null,
   "id": "2e9748ce",
   "metadata": {},
   "outputs": [],
   "source": [
    "print(f\"Model \")"
   ]
  }
 ],
 "metadata": {
  "hide_input": true,
  "kernelspec": {
   "display_name": "base",
   "language": "python",
   "name": "python3"
  },
  "language_info": {
   "codemirror_mode": {
    "name": "ipython",
    "version": 3
   },
   "file_extension": ".py",
   "mimetype": "text/x-python",
   "name": "python",
   "nbconvert_exporter": "python",
   "pygments_lexer": "ipython3",
   "version": "3.12.4"
  }
 },
 "nbformat": 4,
 "nbformat_minor": 5
}
