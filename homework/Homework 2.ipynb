{
 "cells": [
  {
   "cell_type": "markdown",
   "id": "eea1aff8",
   "metadata": {},
   "source": [
    "# Homework 2\n",
    "\n",
    "## FINM 37500: Fixed Income Derivatives\n",
    "\n",
    "### Mark Hendricks\n",
    "\n",
    "#### Winter 2025"
   ]
  },
  {
   "cell_type": "markdown",
   "id": "0e879ec6",
   "metadata": {},
   "source": [
    "***"
   ]
  },
  {
   "cell_type": "markdown",
   "id": "f9d9f901",
   "metadata": {},
   "source": [
    "# 1."
   ]
  },
  {
   "cell_type": "markdown",
   "id": "c450e7d2",
   "metadata": {},
   "source": [
    "## Swaption Vol Data\n",
    "\n",
    "The file `data/swaption_vol_data_2025-01-31.xlsx` has market data on the implied volatility skews for swaptions. Note that it has several columns:\n",
    "* `expry`: expiration of the swaption\n",
    "* `tenor`: tenor of the underlying swap\n",
    "* `model`: the model by which the volatility is quoted. (All are Black.)\n",
    "* `-200`, `-100`, etc.: The strike listed as difference from ATM strike (bps). Note that ATM is considered to be the **forward swapa rate** which you can calculate."
   ]
  },
  {
   "cell_type": "markdown",
   "id": "32ef6430",
   "metadata": {},
   "source": [
    "Your data: ywill use a single row of this data for the `1x4` swaption.\n",
    "* date: `2025-01-31`\n",
    "* expiration: 1yr\n",
    "* tenor: 4yrs"
   ]
  },
  {
   "cell_type": "markdown",
   "id": "051b87a1",
   "metadata": {},
   "source": [
    "## Rate Data\n",
    "\n",
    "The file `data/cap_curves_2025-01-31.xlsx` gives \n",
    "* SOFR swap rates, \n",
    "* their associated discount factors\n",
    "* their associated forward interest rates.\n",
    "\n",
    "You will not need the cap data (flat or forward vols) for this problem."
   ]
  },
  {
   "cell_type": "markdown",
   "id": "52771ae5",
   "metadata": {},
   "source": [
    "## The Swaption\n",
    "\n",
    "Consider the following swaption with the following features:\n",
    "* underlying is a fixed-for-floating (SOFR) swap\n",
    "* the underlying swap has **quarterly** payment frequency\n",
    "* this is a **payer** swaption, which gives the holder the option to **pay** the fixed swap rate and receive SOFR."
   ]
  },
  {
   "cell_type": "code",
   "execution_count": 1,
   "id": "184c1f4c",
   "metadata": {},
   "outputs": [],
   "source": [
    "import numpy as np\n",
    "import pandas as pd\n",
    "\n",
    "from datetime import date\n",
    "from datetime import datetime\n",
    "\n",
    "import sys\n",
    "sys.path.insert(0, '../cmds')\n",
    "from ficcvol import *\n",
    "# from binomial import *\n",
    "from ratecurves import *\n",
    "from treasury_cmds import compound_rate\n",
    "from volskew import *"
   ]
  },
  {
   "cell_type": "code",
   "execution_count": 50,
   "id": "6f3c8c7e",
   "metadata": {},
   "outputs": [],
   "source": [
    "DATE = '2025-01-31'\n",
    "freqcurve = 4\n",
    "\n",
    "SWAP_TYPE = 'SOFR'\n",
    "QUOTE_STYLE = 'black'\n",
    "RELATIVE_STRIKE = 0\n",
    "\n",
    "expry = 1\n",
    "tenor = 4\n",
    "\n",
    "freqswap = 4\n",
    "isPayer=True\n",
    "N = 100\n",
    "\n",
    "curves = pd.read_excel(f'../data/cap_curves_{DATE}.xlsx', sheet_name=f'rate curves {DATE}').set_index('tenor')\n",
    "\n",
    "Topt = expry\n",
    "Tswap = Topt+tenor\n",
    "\n",
    "fwdrate = curves['forwards'][Topt]\n",
    "\n",
    "fwdswap = calc_fwdswaprate(curves['discounts'], Topt, Tswap, freqswap=freqswap)"
   ]
  },
  {
   "cell_type": "code",
   "execution_count": 6,
   "id": "ed25bac4",
   "metadata": {},
   "outputs": [],
   "source": [
    "import numpy as np\n",
    "import pandas as pd\n",
    "from scipy.stats import norm\n",
    "from scipy.optimize import fsolve\n",
    "import matplotlib.pyplot as plt\n",
    "\n",
    "path1 = \"../data/swaption_vol_data_2025-01-31.xlsx\"\n",
    "path2 = \"../data/cap_curves_2025-01-31.xlsx\"\n",
    "\n",
    "swaption_vol_data = pd.read_excel(path1)\n",
    "cap_curves = pd.read_excel(path2)\n",
    "\n",
    "cap_curves.set_index('tenor', inplace=True)"
   ]
  },
  {
   "cell_type": "code",
   "execution_count": 54,
   "id": "c404f987",
   "metadata": {},
   "outputs": [],
   "source": [
    "def compound_rate(intrate,compound_input,compound_output):    \n",
    "    if compound_input is None:\n",
    "        outrate = compound_output * (np.exp(intrate/compound_output) - 1)\n",
    "    elif compound_output is None:\n",
    "        outrate = compound_input * np.log(1 + intrate/compound_input)\n",
    "    else:\n",
    "        outrate = ((1 + intrate/compound_input) ** (compound_input/compound_output) - 1) * compound_output\n",
    "\n",
    "    return outrate\n",
    "\n",
    "def calc_fwdswaprate(discounts, Tfwd, Tswap, freqswap):\n",
    "    freqdisc = round(1/discounts.index.to_series().diff().mean())\n",
    "    step = round(freqdisc / freqswap)\n",
    "    \n",
    "    periods_fwd = discounts.index.get_loc(Tfwd)\n",
    "    periods_swap = discounts.index.get_loc(Tswap)\n",
    "    periods_fwd += step\n",
    "    periods_swap += 1\n",
    "    \n",
    "    fwdswaprate = freqswap * (discounts.loc[Tfwd] - discounts.loc[Tswap]) / discounts.iloc[periods_fwd:periods_swap:step].sum()\n",
    "    return fwdswaprate\n",
    "\n",
    "\n",
    "def blacks_formula(T,vol,strike,fwd,discount=1,isCall=True):\n",
    "        \n",
    "    sigT = vol * np.sqrt(T)\n",
    "    d1 = (1/sigT) * np.log(fwd/strike) + .5*sigT\n",
    "    d2 = d1-sigT\n",
    "    \n",
    "    if isCall:\n",
    "        val = discount * (fwd * norm.cdf(d1) - strike * norm.cdf(d2))\n",
    "    else:\n",
    "        val = discount * (strike * norm.cdf(-d2) - fwd * norm.cdf(-d1))\n",
    "    return val"
   ]
  },
  {
   "cell_type": "markdown",
   "id": "b778aa05",
   "metadata": {},
   "source": [
    "### 1.1\n",
    "Calculate the (relevant) forward swap rate. That is, the one-year forward 4-year swap rate."
   ]
  },
  {
   "cell_type": "code",
   "execution_count": 8,
   "id": "08cf86b2",
   "metadata": {},
   "outputs": [],
   "source": [
    "Topt = swaption_vol_data[\"expiration\"].iloc[0]\n",
    "Tswap = Topt + swaption_vol_data[\"tenor\"].iloc[0]"
   ]
  },
  {
   "cell_type": "code",
   "execution_count": 9,
   "id": "777aab5d",
   "metadata": {},
   "outputs": [
    {
     "name": "stdout",
     "output_type": "stream",
     "text": [
      "Fwd Swap Rate:  3.9385%\n"
     ]
    }
   ],
   "source": [
    "fwdswap = calc_fwdswaprate(cap_curves['discounts'], Topt, Tswap, freqswap=4)\n",
    "print(f\"Fwd Swap Rate: {fwdswap: .4%}\")"
   ]
  },
  {
   "cell_type": "markdown",
   "id": "98250f37",
   "metadata": {},
   "source": [
    "\n",
    "### 1.2\n",
    "Price the swaptions at the quoted implied volatilites and corresponding strikes, all using the just-calculated forward swap rate as the underlying."
   ]
  },
  {
   "cell_type": "code",
   "execution_count": 78,
   "id": "e93ff87c",
   "metadata": {},
   "outputs": [
    {
     "name": "stdout",
     "output_type": "stream",
     "text": [
      "ATM Strike:  3.9385%\n",
      "ATM Vol:  25.9000%\n"
     ]
    }
   ],
   "source": [
    "swaption_vol_data\n",
    "\n",
    "strike_range = np.array([-200,-100,-50, -25, 0, 25, 50, 100, 200])\n",
    "vols = (swaption_vol_data.loc[0,strike_range]/100).values\n",
    "vols = vols.astype(float)\n",
    "strikes = fwdswap + strike_range/100/100\n",
    "capvol = cap_curves.loc[Topt, \"fwd vols\"]\n",
    "\n",
    "strikeATM = strikes[4]\n",
    "volATM = vols[4]\n",
    "print(f\"ATM Strike: {strikeATM: .4%}\")\n",
    "print(f\"ATM Vol: {volATM: .4%}\")"
   ]
  },
  {
   "cell_type": "code",
   "execution_count": 84,
   "id": "7201b269",
   "metadata": {},
   "outputs": [],
   "source": [
    "freqcurve =  4\n",
    "freqswap = 4\n",
    "\n",
    "period_fwd = cap_curves.index.get_loc(Topt)\n",
    "period_swap = cap_curves.index.get_loc(Tswap)+1\n",
    "step = round(freqcurve/freqswap)\n",
    "discount = cap_curves['discounts'].iloc[period_fwd+step : period_swap : step].sum()/freqswap\n",
    "black_prices = 100 * blacks_formula(Topt, vols, strikes, fwdswap, discount=discount, isCall=True)\n",
    "\n",
    "black_quotes = pd.DataFrame([black_prices, vols, strikes], columns = strike_range )\n",
    "black_quotes.index = [\"price\", \"implied vol\", \"strike\"]"
   ]
  },
  {
   "cell_type": "code",
   "execution_count": 85,
   "id": "2aa08384",
   "metadata": {},
   "outputs": [
    {
     "data": {
      "text/html": [
       "<div>\n",
       "<style scoped>\n",
       "    .dataframe tbody tr th:only-of-type {\n",
       "        vertical-align: middle;\n",
       "    }\n",
       "\n",
       "    .dataframe tbody tr th {\n",
       "        vertical-align: top;\n",
       "    }\n",
       "\n",
       "    .dataframe thead th {\n",
       "        text-align: right;\n",
       "    }\n",
       "</style>\n",
       "<table border=\"1\" class=\"dataframe\">\n",
       "  <thead>\n",
       "    <tr style=\"text-align: right;\">\n",
       "      <th></th>\n",
       "      <th>-200</th>\n",
       "      <th>-100</th>\n",
       "      <th>-50</th>\n",
       "      <th>-25</th>\n",
       "      <th>0</th>\n",
       "      <th>25</th>\n",
       "      <th>50</th>\n",
       "      <th>100</th>\n",
       "      <th>200</th>\n",
       "    </tr>\n",
       "  </thead>\n",
       "  <tbody>\n",
       "    <tr>\n",
       "      <th>price</th>\n",
       "      <td>7.155525</td>\n",
       "      <td>3.897171</td>\n",
       "      <td>2.511258</td>\n",
       "      <td>1.928323</td>\n",
       "      <td>1.436233</td>\n",
       "      <td>1.039930</td>\n",
       "      <td>0.736354</td>\n",
       "      <td>0.355241</td>\n",
       "      <td>0.084682</td>\n",
       "    </tr>\n",
       "    <tr>\n",
       "      <th>implied vol</th>\n",
       "      <td>0.421300</td>\n",
       "      <td>0.315100</td>\n",
       "      <td>0.281500</td>\n",
       "      <td>0.268900</td>\n",
       "      <td>0.259000</td>\n",
       "      <td>0.251600</td>\n",
       "      <td>0.246600</td>\n",
       "      <td>0.242300</td>\n",
       "      <td>0.247300</td>\n",
       "    </tr>\n",
       "    <tr>\n",
       "      <th>strike</th>\n",
       "      <td>0.019385</td>\n",
       "      <td>0.029385</td>\n",
       "      <td>0.034385</td>\n",
       "      <td>0.036885</td>\n",
       "      <td>0.039385</td>\n",
       "      <td>0.041885</td>\n",
       "      <td>0.044385</td>\n",
       "      <td>0.049385</td>\n",
       "      <td>0.059385</td>\n",
       "    </tr>\n",
       "  </tbody>\n",
       "</table>\n",
       "</div>"
      ],
      "text/plain": [
       "                 -200      -100      -50       -25        0         25   \\\n",
       "price        7.155525  3.897171  2.511258  1.928323  1.436233  1.039930   \n",
       "implied vol  0.421300  0.315100  0.281500  0.268900  0.259000  0.251600   \n",
       "strike       0.019385  0.029385  0.034385  0.036885  0.039385  0.041885   \n",
       "\n",
       "                  50        100       200  \n",
       "price        0.736354  0.355241  0.084682  \n",
       "implied vol  0.246600  0.242300  0.247300  \n",
       "strike       0.044385  0.049385  0.059385  "
      ]
     },
     "execution_count": 85,
     "metadata": {},
     "output_type": "execute_result"
    }
   ],
   "source": [
    "black_quotes"
   ]
  },
  {
   "cell_type": "markdown",
   "id": "f4420b0d",
   "metadata": {},
   "source": [
    "\n",
    "\n",
    "\n",
    "### 1.3\n",
    "To consider how the expiration and tenor matter, calculate the prices of a few other swaptions for comparison. \n",
    "* No need to get other implied vol quotes--just use the ATM implied vol you have for the swaption above. (Here we are just interested in how Black's formula changes with changes in tenor and expiration.)\n",
    "* No need to calculate for all the strikes--just do the ATM strike.\n",
    "\n",
    "Alternate swaptions\n",
    "* The 3mo x 4yr swaption\n",
    "* The 2yr x 4yr swaption\n",
    "* the 1yr x 2yr swaption\n",
    "\n",
    "Report these values and compare them to the price of the `1y x 4y` swaption."
   ]
  },
  {
   "cell_type": "code",
   "execution_count": 89,
   "id": "ad123370",
   "metadata": {},
   "outputs": [],
   "source": [
    "expiries = [.25,1,2,1]\n",
    "tenors = [4,4,4,2]\n",
    "fwdswaps = np.full(len(expiries),np.nan)\n",
    "isPayer = True\n",
    "\n",
    "blacks_quotes_alt = pd.DataFrame(dtype=float,columns=['expiry','tenor','price'])\n",
    "    \n",
    "for i in range(len(fwdswaps)):\n",
    "    fwdswaps[i] = calc_fwdswaprate(cap_curves['discounts'], expiries[i], expiries[i]+tenors[i], freqswap=freqswap)\n",
    "    \n",
    "    period0 = cap_curves.index.get_loc(expiries[i])\n",
    "    period1 = cap_curves.index.get_loc(expiries[i]+tenors[i])+1\n",
    "    step_i = round(freqcurve/freqswap)\n",
    "\n",
    "    discount_i = cap_curves['discounts'].iloc[period0+step_i : period1 : step_i].sum()/freqswap\n",
    "\n",
    "    blacks_quotes_alt.loc[i,['expiry','tenor']] = [expiries[i],tenors[i]]\n",
    "    blacks_quotes_alt.loc[i,'price'] = 100 * blacks_formula(expiries[i],volATM,strikeATM,fwdswaps[i],discount_i,isCall=isPayer)\n"
   ]
  },
  {
   "cell_type": "code",
   "execution_count": 90,
   "id": "859ea87e",
   "metadata": {},
   "outputs": [
    {
     "data": {
      "text/html": [
       "<div>\n",
       "<style scoped>\n",
       "    .dataframe tbody tr th:only-of-type {\n",
       "        vertical-align: middle;\n",
       "    }\n",
       "\n",
       "    .dataframe tbody tr th {\n",
       "        vertical-align: top;\n",
       "    }\n",
       "\n",
       "    .dataframe thead th {\n",
       "        text-align: right;\n",
       "    }\n",
       "</style>\n",
       "<table border=\"1\" class=\"dataframe\">\n",
       "  <thead>\n",
       "    <tr style=\"text-align: right;\">\n",
       "      <th></th>\n",
       "      <th>expiry</th>\n",
       "      <th>tenor</th>\n",
       "      <th>price</th>\n",
       "    </tr>\n",
       "  </thead>\n",
       "  <tbody>\n",
       "    <tr>\n",
       "      <th>0</th>\n",
       "      <td>0.25</td>\n",
       "      <td>4.0</td>\n",
       "      <td>0.761212</td>\n",
       "    </tr>\n",
       "    <tr>\n",
       "      <th>1</th>\n",
       "      <td>1.00</td>\n",
       "      <td>4.0</td>\n",
       "      <td>1.436233</td>\n",
       "    </tr>\n",
       "    <tr>\n",
       "      <th>2</th>\n",
       "      <td>2.00</td>\n",
       "      <td>4.0</td>\n",
       "      <td>2.028273</td>\n",
       "    </tr>\n",
       "    <tr>\n",
       "      <th>3</th>\n",
       "      <td>1.00</td>\n",
       "      <td>2.0</td>\n",
       "      <td>0.702392</td>\n",
       "    </tr>\n",
       "  </tbody>\n",
       "</table>\n",
       "</div>"
      ],
      "text/plain": [
       "   expiry  tenor     price\n",
       "0    0.25    4.0  0.761212\n",
       "1    1.00    4.0  1.436233\n",
       "2    2.00    4.0  2.028273\n",
       "3    1.00    2.0  0.702392"
      ]
     },
     "execution_count": 90,
     "metadata": {},
     "output_type": "execute_result"
    }
   ],
   "source": [
    "blacks_quotes_alt"
   ]
  },
  {
   "cell_type": "markdown",
   "id": "201396ec",
   "metadata": {},
   "source": [
    "***"
   ]
  },
  {
   "cell_type": "markdown",
   "id": "c80b48bb",
   "metadata": {},
   "source": [
    "# 2. SABR Volatility Modeling"
   ]
  },
  {
   "cell_type": "markdown",
   "id": "bfb69565",
   "metadata": {},
   "source": [
    "Use the quoted volatility skew to fit a SABR model.\n",
    "* Throughout, parameterize, `beta=.75`."
   ]
  },
  {
   "cell_type": "markdown",
   "id": "7259f005",
   "metadata": {},
   "source": [
    "### 2.1.\n",
    "Estimate $(\\alpha,\\rho,\\nu)$ via the SABR formula. Feel free to use the `sabr` function in `cmds/volskew.py`.\n",
    "\n",
    "Report the values of these parameters."
   ]
  },
  {
   "cell_type": "markdown",
   "id": "f28d54c7",
   "metadata": {},
   "source": [
    "### 2.2.\n",
    "Create a grid of strikes of `[.0025, .09]`, with grid spacing of `10bps`, (.0010).\n",
    "\n",
    "Use the SABR model parameterized above to calculate the volatility for each of these strikes.\n",
    "\n",
    "* Plot the SABR curve, and also include the market quotes in the plot.\n",
    "\n",
    "* Conceptually, does the SABR curve fit these points well? Perfectly?"
   ]
  },
  {
   "cell_type": "markdown",
   "id": "8db71caf",
   "metadata": {},
   "source": [
    "### 2.3.\n",
    "Suppose we want to price the `1y4y` swaption but with a far out-of-the-money strike of `5%`. \n",
    "\n",
    "* Use the SABR vol at this strike to price the swaption.\n",
    "\n",
    "(Note that this strike is far outside the range for which we have market quotes, and even if we do have quotes, they likely are not liquid on a given day.)\n",
    "\n"
   ]
  },
  {
   "cell_type": "markdown",
   "id": "6ba6d8e7",
   "metadata": {},
   "source": [
    "### 2.4.\n",
    "\n",
    "Use the ATM implied volatility to fit $\\alpha$, (sometimes denoted $\\sigma_0$.) That is, for any choice of $(\\rho,\\nu)$, solve a quadratic equation to get $\\alpha$ as a function of those two parameters, along with $\\beta$, which is at its selected (not estimated) value.\n",
    "\n",
    "Recall that we have a simple relationship between ATM vol and $\\alpha$.\n",
    "$$\\sigma_\\text{ATM} = \\alpha\\frac{B}{F^{1-\\beta}}$$\n",
    "where $B$ is defined in the discussion note. It is a quadratic expression of $\\alpha$ along with $(\\beta,\\rho,\\nu)$.\n",
    "\n",
    "This decouples the optimization. We solve for $(\\rho,\\nu)$ and $\\alpha$ as a function of the other two parameters.\n",
    "\n",
    "Consider using the function `sabrATM` in `cmds/volskew.py`."
   ]
  },
  {
   "cell_type": "markdown",
   "id": "f9478c65",
   "metadata": {},
   "source": [
    "***"
   ]
  },
  {
   "cell_type": "markdown",
   "id": "4b650a96",
   "metadata": {},
   "source": [
    "# 3. SABR and Risk Management"
   ]
  },
  {
   "cell_type": "markdown",
   "id": "dbb8cbb1",
   "metadata": {},
   "source": [
    "Consider how an **increase** of `50bps` in the underlying rate impacts the price of the `1y4y` ATM swaption.\n",
    "\n",
    "Here, we are assuming that\n",
    "* the rate change will impact the forward swap rate directly, one-for-one with other rates.\n",
    "* the shift happens one week after the original quote date.\n",
    "\n",
    "Of course, in reality, a rate change\n",
    "* may price in early to some degree if it is expected\n",
    "* may not impact the forward swap rate one-for-one. We would need to model how the discount curve changes and what that change (level, slope, curvature?) would do to the forward swap rate."
   ]
  },
  {
   "cell_type": "markdown",
   "id": "047fb430",
   "metadata": {},
   "source": [
    "### 3.1\n",
    "\n",
    "Use Black's equation to re-price the `1y4y` swaption with\n",
    "* the same ATM volatility\n",
    "* an underlying (forward swap) rate `increased` `50bps`.\n",
    "* the same time-to-maturities. (We should decrease these all by 1/365, but we focus here on the delta effects rather than the theta. And it would be a small impact anyone.)\n",
    "\n",
    "Report \n",
    "* the new price\n",
    "* the change in price divided by `50bps`, (a numerical delta.)"
   ]
  },
  {
   "cell_type": "markdown",
   "id": "0d296068",
   "metadata": {},
   "source": [
    "### 3.2\n",
    "\n",
    "Now, we consider how the volatility may change with the underlying shift `up` of `50bps`.\n",
    "\n",
    "Using the same SABR parameters from `2.1`, and the strike grid from `2.2`, plot the new SABR curve accounting for the underlying rate shifting `up` `50bps`."
   ]
  },
  {
   "cell_type": "markdown",
   "id": "2fcda8b9",
   "metadata": {},
   "source": [
    "### 3.3\n",
    "\n",
    "Calculate the new volatility specifically for the pre-shift ATM strike.\n",
    "\n",
    "Use this in Black's formula similar to `3.1`, where the only change is the volatility now reflects the shift in the underlying (not the strike).\n",
    "\n",
    "Report\n",
    "* the new price\n",
    "* the change in price divided by `50bps`"
   ]
  },
  {
   "cell_type": "markdown",
   "id": "b1210951",
   "metadata": {},
   "source": [
    "### 3.4\n",
    "\n",
    "How much different is the (dynamic) delta which accounts for the shift in volatility from the (static) delta in `3.1`?"
   ]
  },
  {
   "cell_type": "markdown",
   "id": "ba259807",
   "metadata": {},
   "source": [
    "***"
   ]
  }
 ],
 "metadata": {
  "hide_input": true,
  "kernelspec": {
   "display_name": "base",
   "language": "python",
   "name": "python3"
  },
  "language_info": {
   "codemirror_mode": {
    "name": "ipython",
    "version": 3
   },
   "file_extension": ".py",
   "mimetype": "text/x-python",
   "name": "python",
   "nbconvert_exporter": "python",
   "pygments_lexer": "ipython3",
   "version": "3.12.4"
  }
 },
 "nbformat": 4,
 "nbformat_minor": 5
}
