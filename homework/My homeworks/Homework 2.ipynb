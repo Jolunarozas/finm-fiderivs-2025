{
 "cells": [
  {
   "cell_type": "markdown",
   "id": "eea1aff8",
   "metadata": {},
   "source": [
    "# Homework 2\n",
    "\n",
    "## FINM 37500: Fixed Income Derivatives\n",
    "\n",
    "### Mark Hendricks\n",
    "\n",
    "#### Winter 2025"
   ]
  },
  {
   "cell_type": "markdown",
   "id": "0e879ec6",
   "metadata": {},
   "source": [
    "***"
   ]
  },
  {
   "cell_type": "markdown",
   "id": "f9d9f901",
   "metadata": {},
   "source": [
    "# 1."
   ]
  },
  {
   "cell_type": "markdown",
   "id": "c450e7d2",
   "metadata": {},
   "source": [
    "## Swaption Vol Data\n",
    "\n",
    "The file `data/swaption_vol_data_2025-01-31.xlsx` has market data on the implied volatility skews for swaptions. Note that it has several columns:\n",
    "* `expry`: expiration of the swaption\n",
    "* `tenor`: tenor of the underlying swap\n",
    "* `model`: the model by which the volatility is quoted. (All are Black.)\n",
    "* `-200`, `-100`, etc.: The strike listed as difference from ATM strike (bps). Note that ATM is considered to be the **forward swapa rate** which you can calculate."
   ]
  },
  {
   "cell_type": "markdown",
   "id": "32ef6430",
   "metadata": {},
   "source": [
    "Your data: ywill use a single row of this data for the `1x4` swaption.\n",
    "* date: `2025-01-31`\n",
    "* expiration: 1yr\n",
    "* tenor: 4yrs"
   ]
  },
  {
   "cell_type": "markdown",
   "id": "051b87a1",
   "metadata": {},
   "source": [
    "## Rate Data\n",
    "\n",
    "The file `data/cap_curves_2025-01-31.xlsx` gives \n",
    "* SOFR swap rates, \n",
    "* their associated discount factors\n",
    "* their associated forward interest rates.\n",
    "\n",
    "You will not need the cap data (flat or forward vols) for this problem."
   ]
  },
  {
   "cell_type": "markdown",
   "id": "52771ae5",
   "metadata": {},
   "source": [
    "## The Swaption\n",
    "\n",
    "Consider the following swaption with the following features:\n",
    "* underlying is a fixed-for-floating (SOFR) swap\n",
    "* the underlying swap has **quarterly** payment frequency\n",
    "* this is a **payer** swaption, which gives the holder the option to **pay** the fixed swap rate and receive SOFR."
   ]
  },
  {
   "cell_type": "code",
   "execution_count": 2,
   "id": "ed25bac4",
   "metadata": {},
   "outputs": [],
   "source": [
    "import numpy as np\n",
    "import pandas as pd\n",
    "from scipy.stats import norm\n",
    "from scipy.optimize import fsolve\n",
    "import matplotlib.pyplot as plt\n",
    "\n",
    "path1 = \"../../data/swaption_vol_data_2025-01-31.xlsx\"\n",
    "path2 = \"../../data/cap_curves_2025-01-31.xlsx\"\n",
    "\n",
    "swaption_vol_data = pd.read_excel(path1)\n",
    "cap_curves = pd.read_excel(path2)\n",
    "\n",
    "cap_curves.set_index('tenor', inplace=True)"
   ]
  },
  {
   "cell_type": "code",
   "execution_count": 3,
   "id": "c404f987",
   "metadata": {},
   "outputs": [],
   "source": [
    "def compound_rate(intrate,compound_input,compound_output):    \n",
    "    if compound_input is None:\n",
    "        outrate = compound_output * (np.exp(intrate/compound_output) - 1)\n",
    "    elif compound_output is None:\n",
    "        outrate = compound_input * np.log(1 + intrate/compound_input)\n",
    "    else:\n",
    "        outrate = ((1 + intrate/compound_input) ** (compound_input/compound_output) - 1) * compound_output\n",
    "\n",
    "    return outrate\n",
    "\n",
    "def calc_fwdswaprate(discounts, Tfwd, Tswap, freqswap):\n",
    "    freqdisc = round(1/discounts.index.to_series().diff().mean())\n",
    "    step = round(freqdisc / freqswap)\n",
    "    \n",
    "    periods_fwd = discounts.index.get_loc(Tfwd)\n",
    "    periods_swap = discounts.index.get_loc(Tswap)\n",
    "    periods_fwd += step\n",
    "    periods_swap += 1\n",
    "    \n",
    "    fwdswaprate = freqswap * (discounts.loc[Tfwd] - discounts.loc[Tswap]) / discounts.iloc[periods_fwd:periods_swap:step].sum()\n",
    "    return fwdswaprate\n",
    "\n",
    "\n",
    "def blacks_formula(T,vol,strike,fwd,discount=1,isCall=True):\n",
    "        \n",
    "    sigT = vol * np.sqrt(T)\n",
    "    d1 = (1/sigT) * np.log(fwd/strike) + .5*sigT\n",
    "    d2 = d1-sigT\n",
    "    \n",
    "    if isCall:\n",
    "        val = discount * (fwd * norm.cdf(d1) - strike * norm.cdf(d2))\n",
    "    else:\n",
    "        val = discount * (strike * norm.cdf(-d2) - fwd * norm.cdf(-d1))\n",
    "    return val"
   ]
  },
  {
   "cell_type": "markdown",
   "id": "b778aa05",
   "metadata": {},
   "source": [
    "### 1.1\n",
    "Calculate the (relevant) forward swap rate. That is, the one-year forward 4-year swap rate."
   ]
  },
  {
   "cell_type": "code",
   "execution_count": 4,
   "id": "08cf86b2",
   "metadata": {},
   "outputs": [],
   "source": [
    "Topt = swaption_vol_data[\"expiration\"].iloc[0]\n",
    "Tswap = Topt + swaption_vol_data[\"tenor\"].iloc[0]"
   ]
  },
  {
   "cell_type": "code",
   "execution_count": 5,
   "id": "777aab5d",
   "metadata": {},
   "outputs": [
    {
     "name": "stdout",
     "output_type": "stream",
     "text": [
      "Fwd Swap Rate:  3.94%\n"
     ]
    }
   ],
   "source": [
    "fwdswap = calc_fwdswaprate(cap_curves['discounts'], Topt, Tswap, freqswap=4)\n",
    "print(f\"Fwd Swap Rate: {fwdswap: .2%}\")"
   ]
  },
  {
   "cell_type": "markdown",
   "id": "98250f37",
   "metadata": {},
   "source": [
    "\n",
    "### 1.2\n",
    "Price the swaptions at the quoted implied volatilites and corresponding strikes, all using the just-calculated forward swap rate as the underlying."
   ]
  },
  {
   "cell_type": "code",
   "execution_count": 6,
   "id": "e93ff87c",
   "metadata": {},
   "outputs": [
    {
     "name": "stdout",
     "output_type": "stream",
     "text": [
      "ATM Strike:  3.9385%\n",
      "ATM Vol:  25.9000%\n"
     ]
    }
   ],
   "source": [
    "swaption_vol_data\n",
    "\n",
    "strike_range = np.array([-200,-100,-50, -25, 0, 25, 50, 100, 200])\n",
    "vols = (swaption_vol_data.loc[0,strike_range]/100).values\n",
    "vols = vols.astype(float)\n",
    "strikes = fwdswap + strike_range/100/100\n",
    "capvol = cap_curves.loc[Topt, \"fwd vols\"]\n",
    "\n",
    "strikeATM = strikes[4]\n",
    "volATM = vols[4]\n",
    "print(f\"ATM Strike: {strikeATM: .4%}\")\n",
    "print(f\"ATM Vol: {volATM: .4%}\")"
   ]
  },
  {
   "cell_type": "code",
   "execution_count": null,
   "id": "7201b269",
   "metadata": {},
   "outputs": [],
   "source": [
    "freqcurve =  4\n",
    "freqswap = 4\n",
    "\n",
    "period_fwd = cap_curves.index.get_loc(Topt)\n",
    "period_swap = cap_curves.index.get_loc(Tswap)+1\n",
    "step = round(freqcurve/freqswap)\n",
    "\n",
    "discount = cap_curves['discounts'].iloc[period_fwd+step : period_swap : step].sum()/freqswap\n",
    "\n",
    "black_prices = 100 * blacks_formula(Topt, vols, strikes, fwdswap, discount=discount, isCall=True)\n",
    "\n",
    "black_quotes = pd.DataFrame([black_prices, vols, strikes], columns = strike_range )\n",
    "black_quotes.index = [\"price\", \"implied vol\", \"strike\"]"
   ]
  },
  {
   "cell_type": "code",
   "execution_count": 9,
   "id": "2aa08384",
   "metadata": {},
   "outputs": [
    {
     "data": {
      "text/html": [
       "<style type=\"text/css\">\n",
       "</style>\n",
       "<table id=\"T_5e511\">\n",
       "  <thead>\n",
       "    <tr>\n",
       "      <th class=\"blank level0\" >&nbsp;</th>\n",
       "      <th id=\"T_5e511_level0_col0\" class=\"col_heading level0 col0\" >-200</th>\n",
       "      <th id=\"T_5e511_level0_col1\" class=\"col_heading level0 col1\" >-100</th>\n",
       "      <th id=\"T_5e511_level0_col2\" class=\"col_heading level0 col2\" >-50</th>\n",
       "      <th id=\"T_5e511_level0_col3\" class=\"col_heading level0 col3\" >-25</th>\n",
       "      <th id=\"T_5e511_level0_col4\" class=\"col_heading level0 col4\" >0</th>\n",
       "      <th id=\"T_5e511_level0_col5\" class=\"col_heading level0 col5\" >25</th>\n",
       "      <th id=\"T_5e511_level0_col6\" class=\"col_heading level0 col6\" >50</th>\n",
       "      <th id=\"T_5e511_level0_col7\" class=\"col_heading level0 col7\" >100</th>\n",
       "      <th id=\"T_5e511_level0_col8\" class=\"col_heading level0 col8\" >200</th>\n",
       "    </tr>\n",
       "  </thead>\n",
       "  <tbody>\n",
       "    <tr>\n",
       "      <th id=\"T_5e511_level0_row0\" class=\"row_heading level0 row0\" >price</th>\n",
       "      <td id=\"T_5e511_row0_col0\" class=\"data row0 col0\" >7.16</td>\n",
       "      <td id=\"T_5e511_row0_col1\" class=\"data row0 col1\" >3.90</td>\n",
       "      <td id=\"T_5e511_row0_col2\" class=\"data row0 col2\" >2.51</td>\n",
       "      <td id=\"T_5e511_row0_col3\" class=\"data row0 col3\" >1.93</td>\n",
       "      <td id=\"T_5e511_row0_col4\" class=\"data row0 col4\" >1.44</td>\n",
       "      <td id=\"T_5e511_row0_col5\" class=\"data row0 col5\" >1.04</td>\n",
       "      <td id=\"T_5e511_row0_col6\" class=\"data row0 col6\" >0.74</td>\n",
       "      <td id=\"T_5e511_row0_col7\" class=\"data row0 col7\" >0.36</td>\n",
       "      <td id=\"T_5e511_row0_col8\" class=\"data row0 col8\" >0.08</td>\n",
       "    </tr>\n",
       "    <tr>\n",
       "      <th id=\"T_5e511_level0_row1\" class=\"row_heading level0 row1\" >implied vol</th>\n",
       "      <td id=\"T_5e511_row1_col0\" class=\"data row1 col0\" >42.13%</td>\n",
       "      <td id=\"T_5e511_row1_col1\" class=\"data row1 col1\" >31.51%</td>\n",
       "      <td id=\"T_5e511_row1_col2\" class=\"data row1 col2\" >28.15%</td>\n",
       "      <td id=\"T_5e511_row1_col3\" class=\"data row1 col3\" >26.89%</td>\n",
       "      <td id=\"T_5e511_row1_col4\" class=\"data row1 col4\" >25.90%</td>\n",
       "      <td id=\"T_5e511_row1_col5\" class=\"data row1 col5\" >25.16%</td>\n",
       "      <td id=\"T_5e511_row1_col6\" class=\"data row1 col6\" >24.66%</td>\n",
       "      <td id=\"T_5e511_row1_col7\" class=\"data row1 col7\" >24.23%</td>\n",
       "      <td id=\"T_5e511_row1_col8\" class=\"data row1 col8\" >24.73%</td>\n",
       "    </tr>\n",
       "    <tr>\n",
       "      <th id=\"T_5e511_level0_row2\" class=\"row_heading level0 row2\" >strike</th>\n",
       "      <td id=\"T_5e511_row2_col0\" class=\"data row2 col0\" >1.94%</td>\n",
       "      <td id=\"T_5e511_row2_col1\" class=\"data row2 col1\" >2.94%</td>\n",
       "      <td id=\"T_5e511_row2_col2\" class=\"data row2 col2\" >3.44%</td>\n",
       "      <td id=\"T_5e511_row2_col3\" class=\"data row2 col3\" >3.69%</td>\n",
       "      <td id=\"T_5e511_row2_col4\" class=\"data row2 col4\" >3.94%</td>\n",
       "      <td id=\"T_5e511_row2_col5\" class=\"data row2 col5\" >4.19%</td>\n",
       "      <td id=\"T_5e511_row2_col6\" class=\"data row2 col6\" >4.44%</td>\n",
       "      <td id=\"T_5e511_row2_col7\" class=\"data row2 col7\" >4.94%</td>\n",
       "      <td id=\"T_5e511_row2_col8\" class=\"data row2 col8\" >5.94%</td>\n",
       "    </tr>\n",
       "  </tbody>\n",
       "</table>\n"
      ],
      "text/plain": [
       "<pandas.io.formats.style.Styler at 0x20285292b40>"
      ]
     },
     "execution_count": 9,
     "metadata": {},
     "output_type": "execute_result"
    }
   ],
   "source": [
    "black_quotes.style.format('{:.2%}').format('{:.2f}',subset=pd.IndexSlice['price',:])"
   ]
  },
  {
   "cell_type": "markdown",
   "id": "f4420b0d",
   "metadata": {},
   "source": [
    "\n",
    "\n",
    "\n",
    "### 1.3\n",
    "To consider how the expiration and tenor matter, calculate the prices of a few other swaptions for comparison. \n",
    "* No need to get other implied vol quotes--just use the ATM implied vol you have for the swaption above. (Here we are just interested in how Black's formula changes with changes in tenor and expiration.)\n",
    "* No need to calculate for all the strikes--just do the ATM strike.\n",
    "\n",
    "Alternate swaptions\n",
    "* The 3mo x 4yr swaption\n",
    "* The 2yr x 4yr swaption\n",
    "* the 1yr x 2yr swaption\n",
    "\n",
    "Report these values and compare them to the price of the `1y x 4y` swaption."
   ]
  },
  {
   "cell_type": "code",
   "execution_count": 11,
   "id": "ad123370",
   "metadata": {},
   "outputs": [],
   "source": [
    "expiries = [.25,1,2,1]\n",
    "tenors = [4,4,4,2]\n",
    "fwdswaps = np.full(len(expiries),np.nan)\n",
    "isPayer = True\n",
    "\n",
    "blacks_quotes_alt = pd.DataFrame(dtype=float,columns=['expiry','tenor','price'])\n",
    "    \n",
    "for i in range(len(fwdswaps)):\n",
    "    fwdswaps[i] = calc_fwdswaprate(cap_curves['discounts'], expiries[i], expiries[i]+tenors[i], freqswap=freqswap)\n",
    "    \n",
    "    period0 = cap_curves.index.get_loc(expiries[i])\n",
    "    period1 = cap_curves.index.get_loc(expiries[i]+tenors[i])+1\n",
    "    step_i = round(freqcurve/freqswap)\n",
    "\n",
    "    discount_i = cap_curves['discounts'].iloc[period0+step_i : period1 : step_i].sum()/freqswap\n",
    "\n",
    "    blacks_quotes_alt.loc[i,['expiry','tenor']] = [expiries[i],tenors[i]]\n",
    "    blacks_quotes_alt.loc[i,'price'] = 100 * blacks_formula(expiries[i],volATM,strikeATM,fwdswaps[i],discount_i,isCall=isPayer)\n"
   ]
  },
  {
   "cell_type": "code",
   "execution_count": 14,
   "id": "859ea87e",
   "metadata": {},
   "outputs": [
    {
     "data": {
      "text/html": [
       "<style type=\"text/css\">\n",
       "</style>\n",
       "<table id=\"T_9050a\">\n",
       "  <thead>\n",
       "    <tr>\n",
       "      <th class=\"blank level0\" >&nbsp;</th>\n",
       "      <th id=\"T_9050a_level0_col0\" class=\"col_heading level0 col0\" >expiry</th>\n",
       "      <th id=\"T_9050a_level0_col1\" class=\"col_heading level0 col1\" >tenor</th>\n",
       "      <th id=\"T_9050a_level0_col2\" class=\"col_heading level0 col2\" >price</th>\n",
       "    </tr>\n",
       "  </thead>\n",
       "  <tbody>\n",
       "    <tr>\n",
       "      <th id=\"T_9050a_level0_row0\" class=\"row_heading level0 row0\" >0</th>\n",
       "      <td id=\"T_9050a_row0_col0\" class=\"data row0 col0\" >0.25</td>\n",
       "      <td id=\"T_9050a_row0_col1\" class=\"data row0 col1\" >4.00</td>\n",
       "      <td id=\"T_9050a_row0_col2\" class=\"data row0 col2\" >0.76</td>\n",
       "    </tr>\n",
       "    <tr>\n",
       "      <th id=\"T_9050a_level0_row1\" class=\"row_heading level0 row1\" >1</th>\n",
       "      <td id=\"T_9050a_row1_col0\" class=\"data row1 col0\" >1.00</td>\n",
       "      <td id=\"T_9050a_row1_col1\" class=\"data row1 col1\" >4.00</td>\n",
       "      <td id=\"T_9050a_row1_col2\" class=\"data row1 col2\" >1.44</td>\n",
       "    </tr>\n",
       "    <tr>\n",
       "      <th id=\"T_9050a_level0_row2\" class=\"row_heading level0 row2\" >2</th>\n",
       "      <td id=\"T_9050a_row2_col0\" class=\"data row2 col0\" >2.00</td>\n",
       "      <td id=\"T_9050a_row2_col1\" class=\"data row2 col1\" >4.00</td>\n",
       "      <td id=\"T_9050a_row2_col2\" class=\"data row2 col2\" >2.03</td>\n",
       "    </tr>\n",
       "    <tr>\n",
       "      <th id=\"T_9050a_level0_row3\" class=\"row_heading level0 row3\" >3</th>\n",
       "      <td id=\"T_9050a_row3_col0\" class=\"data row3 col0\" >1.00</td>\n",
       "      <td id=\"T_9050a_row3_col1\" class=\"data row3 col1\" >2.00</td>\n",
       "      <td id=\"T_9050a_row3_col2\" class=\"data row3 col2\" >0.70</td>\n",
       "    </tr>\n",
       "  </tbody>\n",
       "</table>\n"
      ],
      "text/plain": [
       "<pandas.io.formats.style.Styler at 0x20284ffbb30>"
      ]
     },
     "execution_count": 14,
     "metadata": {},
     "output_type": "execute_result"
    }
   ],
   "source": [
    "blacks_quotes_alt.style.format({'expiry':'{:.2f}', 'tenor':'{:.2f}', 'price':'{:.2f}'})"
   ]
  },
  {
   "cell_type": "markdown",
   "id": "201396ec",
   "metadata": {},
   "source": [
    "***"
   ]
  },
  {
   "cell_type": "markdown",
   "id": "c80b48bb",
   "metadata": {},
   "source": [
    "# 2. SABR Volatility Modeling"
   ]
  },
  {
   "cell_type": "markdown",
   "id": "bfb69565",
   "metadata": {},
   "source": [
    "Use the quoted volatility skew to fit a SABR model.\n",
    "* Throughout, parameterize, `beta=.75`."
   ]
  },
  {
   "cell_type": "code",
   "execution_count": 60,
   "id": "737d19f6",
   "metadata": {},
   "outputs": [],
   "source": [
    "BETA = .75\n",
    "F = fwdswap-1e-8\n",
    "doSLIM = False"
   ]
  },
  {
   "cell_type": "markdown",
   "id": "7259f005",
   "metadata": {},
   "source": [
    "### 2.1.\n",
    "Estimate $(\\alpha,\\rho,\\nu)$ via the SABR formula. Feel free to use the `sabr` function in `cmds/volskew.py`.\n",
    "\n",
    "Report the values of these parameters."
   ]
  },
  {
   "cell_type": "code",
   "execution_count": 61,
   "id": "3c853404",
   "metadata": {},
   "outputs": [],
   "source": [
    "import sys\n",
    "sys.path.insert(0, '../../cmds')\n",
    "from volskew import *"
   ]
  },
  {
   "cell_type": "code",
   "execution_count": 62,
   "id": "eed155e6",
   "metadata": {},
   "outputs": [],
   "source": [
    "def obj_fun(xargs):\n",
    "    nu = xargs[0]\n",
    "    rho = xargs[1]\n",
    "    alpha = xargs[2]\n",
    "    \n",
    "    ivolSABR = np.zeros(len(strikes))\n",
    "    \n",
    "    for i,strike in enumerate(strikes):\n",
    "         ivolSABR[i] = sabr(BETA,nu,rho,alpha,F,strike,Topt)\n",
    "    \n",
    "    error = ((ivolSABR - vols)**2).sum()\n",
    "    \n",
    "    return error\n",
    "\n",
    "\n",
    "def obj_fun_slim(xargs):\n",
    "    nu = xargs[0]\n",
    "    rho = xargs[1]\n",
    "    ivolSABR = np.zeros(len(strikes))\n",
    "    \n",
    "    for i,strike in enumerate(strikes):\n",
    "         ivolSABR[i] = sabr_slim(BETA,nu,rho,F,strike,Topt,volATM)\n",
    "    \n",
    "    error = ((ivolSABR - vols)**2).sum()\n",
    "    \n",
    "    return error"
   ]
  },
  {
   "cell_type": "code",
   "execution_count": 63,
   "id": "60a86c74",
   "metadata": {},
   "outputs": [],
   "source": [
    "if not doSLIM:\n",
    "    x0 = np.array([.6,0,.1])\n",
    "    fun = obj_fun\n",
    "else:\n",
    "    fun = obj_fun_slim\n",
    "    x0 = np.array([.6,0,.1])\n",
    "\n",
    "optim = minimize(fun,x0)\n",
    "xstar = optim.x\n",
    "nustar = xstar[0]\n",
    "rhostar = xstar[1]\n",
    "   \n",
    "if doSLIM:\n",
    "    alphastar = solve_alpha(BETA,nustar,rhostar,Topt,volATM,F)\n",
    "    ivolSABR = sabr_slim(BETA,nustar,rhostar,F,strikes,Topt,volATM)\n",
    "else:\n",
    "    alphastar = xstar[2]\n",
    "    ivolSABR = sabr(BETA,nustar,rhostar,alphastar,F,strikes,Topt)\n",
    "    \n",
    "error = optim.fun"
   ]
  },
  {
   "cell_type": "code",
   "execution_count": 64,
   "id": "f3bb4517",
   "metadata": {},
   "outputs": [
    {
     "data": {
      "text/html": [
       "<style type=\"text/css\">\n",
       "</style>\n",
       "<table id=\"T_77250\">\n",
       "  <thead>\n",
       "    <tr>\n",
       "      <th class=\"blank level0\" >&nbsp;</th>\n",
       "      <th id=\"T_77250_level0_col0\" class=\"col_heading level0 col0\" >SABR Parameters</th>\n",
       "    </tr>\n",
       "  </thead>\n",
       "  <tbody>\n",
       "    <tr>\n",
       "      <th id=\"T_77250_level0_row0\" class=\"row_heading level0 row0\" >beta ($\\beta$)</th>\n",
       "      <td id=\"T_77250_row0_col0\" class=\"data row0 col0\" >0.7500</td>\n",
       "    </tr>\n",
       "    <tr>\n",
       "      <th id=\"T_77250_level0_row1\" class=\"row_heading level0 row1\" >alpha ($\\alpha$)</th>\n",
       "      <td id=\"T_77250_row1_col0\" class=\"data row1 col0\" >0.1128</td>\n",
       "    </tr>\n",
       "    <tr>\n",
       "      <th id=\"T_77250_level0_row2\" class=\"row_heading level0 row2\" >nu ($\\nu$)</th>\n",
       "      <td id=\"T_77250_row2_col0\" class=\"data row2 col0\" >0.6914</td>\n",
       "    </tr>\n",
       "    <tr>\n",
       "      <th id=\"T_77250_level0_row3\" class=\"row_heading level0 row3\" >rho ($\\rho$)</th>\n",
       "      <td id=\"T_77250_row3_col0\" class=\"data row3 col0\" >-0.3448</td>\n",
       "    </tr>\n",
       "    <tr>\n",
       "      <th id=\"T_77250_level0_row4\" class=\"row_heading level0 row4\" >fit error</th>\n",
       "      <td id=\"T_77250_row4_col0\" class=\"data row4 col0\" >0.0000</td>\n",
       "    </tr>\n",
       "  </tbody>\n",
       "</table>\n"
      ],
      "text/plain": [
       "<pandas.io.formats.style.Styler at 0x2028735b080>"
      ]
     },
     "execution_count": 64,
     "metadata": {},
     "output_type": "execute_result"
    }
   ],
   "source": [
    "param = pd.DataFrame([BETA,alphastar,nustar,rhostar,error],index=['beta ($\\\\beta$)','alpha ($\\\\alpha$)','nu ($\\\\nu$)','rho ($\\\\rho$)','fit error'],columns=['SABR Parameters']).style.format('{:.4f}')\n",
    "param"
   ]
  },
  {
   "cell_type": "markdown",
   "id": "f28d54c7",
   "metadata": {},
   "source": [
    "### 2.2.\n",
    "Create a grid of strikes of `[.0025, .09]`, with grid spacing of `10bps`, (.0010).\n",
    "\n",
    "Use the SABR model parameterized above to calculate the volatility for each of these strikes.\n",
    "\n",
    "* Plot the SABR curve, and also include the market quotes in the plot.\n",
    "\n",
    "* Conceptually, does the SABR curve fit these points well? Perfectly?"
   ]
  },
  {
   "cell_type": "code",
   "execution_count": 65,
   "id": "16562f55",
   "metadata": {},
   "outputs": [],
   "source": [
    "strikegrid = np.arange(.0025,.09,.0010)"
   ]
  },
  {
   "cell_type": "code",
   "execution_count": 66,
   "id": "6da1555f",
   "metadata": {},
   "outputs": [],
   "source": [
    "if doSLIM:\n",
    "    ivolgrid = sabr_slim(BETA,nustar,rhostar,F,strikegrid,Topt,volATM)\n",
    "else:\n",
    "    ivolgrid = sabr(BETA,nustar,rhostar,alphastar,F,strikegrid,Topt)"
   ]
  },
  {
   "cell_type": "code",
   "execution_count": 67,
   "id": "f0220191",
   "metadata": {},
   "outputs": [],
   "source": [
    "sabrcurve = pd.DataFrame(ivolgrid,index=strikegrid,columns=['SABR'])"
   ]
  },
  {
   "cell_type": "code",
   "execution_count": 68,
   "id": "8b8c4995",
   "metadata": {},
   "outputs": [],
   "source": [
    "volquotes = pd.DataFrame([vols,strikes],index=['market vol','strike']).T.set_index('strike')"
   ]
  },
  {
   "cell_type": "code",
   "execution_count": 69,
   "id": "df9909fb",
   "metadata": {},
   "outputs": [
    {
     "data": {
      "image/png": "[encoded data removed]",
      "text/plain": [
       "<Figure size 640x480 with 1 Axes>"
      ]
     },
     "metadata": {},
     "output_type": "display_data"
    }
   ],
   "source": [
    "fig, ax = plt.subplots()\n",
    "sabrcurve.plot(ax=ax)\n",
    "volquotes.plot(linestyle='',marker='o',ax=ax)\n",
    "plt.legend()\n",
    "plt.xlabel('strike')\n",
    "plt.ylabel('implied vol')\n",
    "plt.title('SABR Fit')\n",
    "plt.show()"
   ]
  },
  {
   "cell_type": "markdown",
   "id": "8db71caf",
   "metadata": {},
   "source": [
    "### 2.3.\n",
    "Suppose we want to price the `1y4y` swaption but with a far out-of-the-money strike of `5%`. \n",
    "\n",
    "* Use the SABR vol at this strike to price the swaption.\n",
    "\n",
    "(Note that this strike is far outside the range for which we have market quotes, and even if we do have quotes, they likely are not liquid on a given day.)\n",
    "\n"
   ]
  },
  {
   "cell_type": "code",
   "execution_count": 70,
   "id": "14a5aaaa",
   "metadata": {},
   "outputs": [],
   "source": [
    "NEWSTRIKE = .05\n",
    "\n",
    "if doSLIM:\n",
    "    newvol = sabr_slim(BETA,nustar,rhostar,F,NEWSTRIKE,Topt,volATM)\n",
    "else:\n",
    "    newvol = sabr(BETA,nustar,rhostar,alphastar,F,NEWSTRIKE,Topt)"
   ]
  },
  {
   "cell_type": "code",
   "execution_count": 71,
   "id": "3f3c21df",
   "metadata": {},
   "outputs": [
    {
     "data": {
      "text/plain": [
       "'Price of the OTM swaption at strike 5.00% is $0.3179.'"
      ]
     },
     "metadata": {},
     "output_type": "display_data"
    }
   ],
   "source": [
    "newprice = 100 * blacks_formula(Topt,newvol,NEWSTRIKE,fwdswap,discount,isCall=isPayer)\n",
    "display(f'Price of the OTM swaption at strike {NEWSTRIKE:.2%} is ${newprice:.4f}.')"
   ]
  },
  {
   "cell_type": "markdown",
   "id": "6ba6d8e7",
   "metadata": {},
   "source": [
    "### 2.4.\n",
    "\n",
    "Use the ATM implied volatility to fit $\\alpha$, (sometimes denoted $\\sigma_0$.) That is, for any choice of $(\\rho,\\nu)$, solve a quadratic equation to get $\\alpha$ as a function of those two parameters, along with $\\beta$, which is at its selected (not estimated) value.\n",
    "\n",
    "Recall that we have a simple relationship between ATM vol and $\\alpha$.\n",
    "$$\\sigma_\\text{ATM} = \\alpha\\frac{B}{F^{1-\\beta}}$$\n",
    "where $B$ is defined in the discussion note. It is a quadratic expression of $\\alpha$ along with $(\\beta,\\rho,\\nu)$.\n",
    "\n",
    "This decouples the optimization. We solve for $(\\rho,\\nu)$ and $\\alpha$ as a function of the other two parameters.\n",
    "\n",
    "Consider using the function `sabrATM` in `cmds/volskew.py`."
   ]
  },
  {
   "cell_type": "code",
   "execution_count": 72,
   "id": "35e7a932",
   "metadata": {},
   "outputs": [],
   "source": [
    "doSLIM = True \n",
    "if not doSLIM:\n",
    "    x0 = np.array([.6,0,.1])\n",
    "    fun = obj_fun\n",
    "else:\n",
    "    fun = obj_fun_slim\n",
    "    x0 = np.array([.6,0,.1])\n",
    "\n",
    "optim = minimize(fun,x0)\n",
    "xstar = optim.x\n",
    "nustar = xstar[0]\n",
    "rhostar = xstar[1]\n",
    "   \n",
    "if doSLIM:\n",
    "    alphastar = solve_alpha(BETA,nustar,rhostar,Topt,volATM,F)\n",
    "    ivolSABR = sabr_slim(BETA,nustar,rhostar,F,strikes,Topt,volATM)\n",
    "else:\n",
    "    alphastar = xstar[2]\n",
    "    ivolSABR = sabr(BETA,nustar,rhostar,alphastar,F,strikes,Topt)\n",
    "    \n",
    "error = optim.fun"
   ]
  },
  {
   "cell_type": "code",
   "execution_count": 73,
   "id": "a4d5ddcd",
   "metadata": {},
   "outputs": [
    {
     "data": {
      "text/html": [
       "<style type=\"text/css\">\n",
       "</style>\n",
       "<table id=\"T_f264c\">\n",
       "  <thead>\n",
       "    <tr>\n",
       "      <th class=\"blank level0\" >&nbsp;</th>\n",
       "      <th id=\"T_f264c_level0_col0\" class=\"col_heading level0 col0\" >SABR Parameters</th>\n",
       "    </tr>\n",
       "  </thead>\n",
       "  <tbody>\n",
       "    <tr>\n",
       "      <th id=\"T_f264c_level0_row0\" class=\"row_heading level0 row0\" >beta ($\\beta$)</th>\n",
       "      <td id=\"T_f264c_row0_col0\" class=\"data row0 col0\" >0.7500</td>\n",
       "    </tr>\n",
       "    <tr>\n",
       "      <th id=\"T_f264c_level0_row1\" class=\"row_heading level0 row1\" >alpha ($\\alpha$)</th>\n",
       "      <td id=\"T_f264c_row1_col0\" class=\"data row1 col0\" >0.1130</td>\n",
       "    </tr>\n",
       "    <tr>\n",
       "      <th id=\"T_f264c_level0_row2\" class=\"row_heading level0 row2\" >nu ($\\nu$)</th>\n",
       "      <td id=\"T_f264c_row2_col0\" class=\"data row2 col0\" >0.6881</td>\n",
       "    </tr>\n",
       "    <tr>\n",
       "      <th id=\"T_f264c_level0_row3\" class=\"row_heading level0 row3\" >rho ($\\rho$)</th>\n",
       "      <td id=\"T_f264c_row3_col0\" class=\"data row3 col0\" >-0.3465</td>\n",
       "    </tr>\n",
       "    <tr>\n",
       "      <th id=\"T_f264c_level0_row4\" class=\"row_heading level0 row4\" >fit error</th>\n",
       "      <td id=\"T_f264c_row4_col0\" class=\"data row4 col0\" >0.0000</td>\n",
       "    </tr>\n",
       "  </tbody>\n",
       "</table>\n"
      ],
      "text/plain": [
       "<pandas.io.formats.style.Styler at 0x202857563c0>"
      ]
     },
     "execution_count": 73,
     "metadata": {},
     "output_type": "execute_result"
    }
   ],
   "source": [
    "param = pd.DataFrame([BETA,alphastar,nustar,rhostar,error],index=['beta ($\\\\beta$)','alpha ($\\\\alpha$)','nu ($\\\\nu$)','rho ($\\\\rho$)','fit error'],columns=['SABR Parameters']).style.format('{:.4f}')\n",
    "param"
   ]
  },
  {
   "cell_type": "code",
   "execution_count": 74,
   "id": "2b0e458b",
   "metadata": {},
   "outputs": [],
   "source": [
    "if doSLIM:\n",
    "    ivolgrid = sabr_slim(BETA,nustar,rhostar,F,strikegrid,Topt,volATM)\n",
    "else:\n",
    "    ivolgrid = sabr(BETA,nustar,rhostar,alphastar,F,strikegrid,Topt)"
   ]
  },
  {
   "cell_type": "code",
   "execution_count": 76,
   "id": "ac2a0da2",
   "metadata": {},
   "outputs": [],
   "source": [
    "sabrcurve_smil = pd.DataFrame(ivolgrid,index=strikegrid,columns=['SABR'])"
   ]
  },
  {
   "cell_type": "code",
   "execution_count": 78,
   "id": "8a6bb51b",
   "metadata": {},
   "outputs": [
    {
     "data": {
      "image/png": "[encoded data removed]",
      "text/plain": [
       "<Figure size 640x480 with 1 Axes>"
      ]
     },
     "metadata": {},
     "output_type": "display_data"
    }
   ],
   "source": [
    "fig, ax = plt.subplots()\n",
    "sabrcurve.plot(ax=ax)\n",
    "volquotes.plot(linestyle='',marker='o',ax=ax)\n",
    "sabrcurve_smil.plot(ax=ax, linestyle='--')\n",
    "plt.legend()\n",
    "plt.xlabel('strike')\n",
    "plt.ylabel('implied vol')\n",
    "plt.title('SABR Fit')\n",
    "plt.show()"
   ]
  },
  {
   "cell_type": "code",
   "execution_count": 79,
   "id": "5576d627",
   "metadata": {},
   "outputs": [],
   "source": [
    "NEWSTRIKE = .05\n",
    "\n",
    "if doSLIM:\n",
    "    newvol = sabr_slim(BETA,nustar,rhostar,F,NEWSTRIKE,Topt,volATM)\n",
    "else:\n",
    "    newvol = sabr(BETA,nustar,rhostar,alphastar,F,NEWSTRIKE,Topt)"
   ]
  },
  {
   "cell_type": "code",
   "execution_count": 80,
   "id": "8681953e",
   "metadata": {},
   "outputs": [
    {
     "data": {
      "text/plain": [
       "'Price of the OTM swaption at strike 5.00% is $0.3186.'"
      ]
     },
     "metadata": {},
     "output_type": "display_data"
    }
   ],
   "source": [
    "newprice = 100 * blacks_formula(Topt,newvol,NEWSTRIKE,fwdswap,discount,isCall=isPayer)\n",
    "display(f'Price of the OTM swaption at strike {NEWSTRIKE:.2%} is ${newprice:.4f}.')"
   ]
  },
  {
   "cell_type": "markdown",
   "id": "f9478c65",
   "metadata": {},
   "source": [
    "***"
   ]
  },
  {
   "cell_type": "markdown",
   "id": "4b650a96",
   "metadata": {},
   "source": [
    "# 3. SABR and Risk Management"
   ]
  },
  {
   "cell_type": "markdown",
   "id": "dbb8cbb1",
   "metadata": {},
   "source": [
    "Consider how an **increase** of `50bps` in the underlying rate impacts the price of the `1y4y` ATM swaption.\n",
    "\n",
    "Here, we are assuming that\n",
    "* the rate change will impact the forward swap rate directly, one-for-one with other rates.\n",
    "* the shift happens one week after the original quote date.\n",
    "\n",
    "Of course, in reality, a rate change\n",
    "* may price in early to some degree if it is expected\n",
    "* may not impact the forward swap rate one-for-one. We would need to model how the discount curve changes and what that change (level, slope, curvature?) would do to the forward swap rate."
   ]
  },
  {
   "cell_type": "markdown",
   "id": "047fb430",
   "metadata": {},
   "source": [
    "### 3.1\n",
    "\n",
    "Use Black's equation to re-price the `1y4y` swaption with\n",
    "* the same ATM volatility\n",
    "* an underlying (forward swap) rate `increased` `50bps`.\n",
    "* the same time-to-maturities. (We should decrease these all by 1/365, but we focus here on the delta effects rather than the theta. And it would be a small impact anyone.)\n",
    "\n",
    "Report \n",
    "* the new price\n",
    "* the change in price divided by `50bps`, (a numerical delta.)"
   ]
  },
  {
   "cell_type": "code",
   "execution_count": 97,
   "id": "44ef240d",
   "metadata": {},
   "outputs": [
    {
     "name": "stdout",
     "output_type": "stream",
     "text": [
      "Doing complete SABR\n"
     ]
    },
    {
     "data": {
      "image/png": "[encoded data removed]",
      "text/plain": [
       "<Figure size 640x480 with 1 Axes>"
      ]
     },
     "metadata": {},
     "output_type": "display_data"
    }
   ],
   "source": [
    "SHIFT = +50/100/100\n",
    "doSLIM = False\n",
    "sabrcurve.rename(columns={'SABR':f'SABR: underlying at t'},inplace=True)\n",
    "if doSLIM:\n",
    "    print(\"Doing Slime - SABR-ATM\")\n",
    "    sabrcurve[f'SABR: underlying + {SHIFT*100*100:.0f}bps'] = sabr_slim(BETA,nustar,rhostar,F+SHIFT,strikegrid,Topt,volATM)\n",
    "else:\n",
    "    print(\"Doing complete SABR\")\n",
    "    sabrcurve[f'SABR: underlying + {SHIFT*100*100:.0f}bps'] = sabr(BETA,nustar,rhostar,alphastar,F+SHIFT,strikegrid,Topt)\n",
    "\n",
    "fig, ax = plt.subplots()\n",
    "sabrcurve.plot(ax=ax)\n",
    "plt.xlim([F-.01,F+.01])\n",
    "plt.ylim([volATM-.05,volATM+.05])\n",
    "plt.axvline(F,color='k',linestyle='--',label=f'underlying at t')\n",
    "plt.axvline(F+SHIFT,color='k',linestyle=':',label=f'underlying + {SHIFT*100*100:.0f}bps')\n",
    "plt.ylabel('swaption implied volatility');\n",
    "plt.xlabel('strike')\n",
    "plt.legend();"
   ]
  },
  {
   "cell_type": "code",
   "execution_count": 98,
   "id": "209f5212",
   "metadata": {},
   "outputs": [],
   "source": [
    "idloc = (sabrcurve.index.to_series()-fwdswap).abs().idxmin()\n",
    "\n",
    "newvols = sabrcurve.loc[idloc]\n",
    "strikeATM = strikes[4]\n",
    "\n",
    "Frange = F + [0,SHIFT]"
   ]
  },
  {
   "cell_type": "code",
   "execution_count": 99,
   "id": "9f3902a9",
   "metadata": {},
   "outputs": [],
   "source": [
    "period_fwd = cap_curves.index.get_loc(Topt)\n",
    "period_swap = cap_curves.index.get_loc(Tswap)+1\n",
    "step = round(freqcurve/freqswap)\n",
    "\n",
    "discount = cap_curves['discounts'].iloc[period_fwd+step : period_swap : step].sum()/freqswap"
   ]
  },
  {
   "cell_type": "code",
   "execution_count": 103,
   "id": "2d6bec27",
   "metadata": {},
   "outputs": [
    {
     "name": "stderr",
     "output_type": "stream",
     "text": [
      "C:\\Users\\josel\\AppData\\Local\\Temp\\ipykernel_2748\\1147075106.py:1: FutureWarning: Series.__getitem__ treating keys as positions is deprecated. In a future version, integer keys will always be treated as labels (consistent with DataFrame behavior). To access a value by position, use `ser.iloc[pos]`\n",
      "  blackprices = pd.Series(100 * blacks_formula(Topt, newvols[0],NEWSTRIKE,Frange,discount,isCall=isPayer), index=['no change in rates','shift in rates'], name='no change in vol').to_frame().T\n",
      "C:\\Users\\josel\\AppData\\Local\\Temp\\ipykernel_2748\\1147075106.py:2: FutureWarning: Series.__getitem__ treating keys as positions is deprecated. In a future version, integer keys will always be treated as labels (consistent with DataFrame behavior). To access a value by position, use `ser.iloc[pos]`\n",
      "  blackprices.loc['dynamic vol','shift in rates'] = 100 * blacks_formula(Topt, newvols[1],NEWSTRIKE,Frange[1],discount,isCall=isPayer)\n"
     ]
    },
    {
     "data": {
      "text/html": [
       "<style type=\"text/css\">\n",
       "</style>\n",
       "<table id=\"T_5d0b7\">\n",
       "  <thead>\n",
       "    <tr>\n",
       "      <th class=\"blank level0\" >&nbsp;</th>\n",
       "      <th id=\"T_5d0b7_level0_col0\" class=\"col_heading level0 col0\" >no change in rates</th>\n",
       "      <th id=\"T_5d0b7_level0_col1\" class=\"col_heading level0 col1\" >shift in rates</th>\n",
       "    </tr>\n",
       "  </thead>\n",
       "  <tbody>\n",
       "    <tr>\n",
       "      <th id=\"T_5d0b7_level0_row0\" class=\"row_heading level0 row0\" >no change in vol</th>\n",
       "      <td id=\"T_5d0b7_row0_col0\" class=\"data row0 col0\" >0.39</td>\n",
       "      <td id=\"T_5d0b7_row0_col1\" class=\"data row0 col1\" >0.90</td>\n",
       "    </tr>\n",
       "    <tr>\n",
       "      <th id=\"T_5d0b7_level0_row1\" class=\"row_heading level0 row1\" >dynamic vol</th>\n",
       "      <td id=\"T_5d0b7_row1_col0\" class=\"data row1 col0\" >nan</td>\n",
       "      <td id=\"T_5d0b7_row1_col1\" class=\"data row1 col1\" >0.98</td>\n",
       "    </tr>\n",
       "  </tbody>\n",
       "</table>\n"
      ],
      "text/plain": [
       "<pandas.io.formats.style.Styler at 0x202875735c0>"
      ]
     },
     "execution_count": 103,
     "metadata": {},
     "output_type": "execute_result"
    }
   ],
   "source": [
    "blackprices = pd.Series(100 * blacks_formula(Topt, newvols[0],NEWSTRIKE,Frange,discount,isCall=isPayer), index=['no change in rates','shift in rates'], name='no change in vol').to_frame().T\n",
    "blackprices.loc['dynamic vol','shift in rates'] = 100 * blacks_formula(Topt, newvols[1],NEWSTRIKE,Frange[1],discount,isCall=isPayer)\n",
    "blackprices.style.format('{:.2f}')"
   ]
  },
  {
   "cell_type": "code",
   "execution_count": 104,
   "id": "c194ad18",
   "metadata": {},
   "outputs": [
    {
     "data": {
      "text/html": [
       "<style type=\"text/css\">\n",
       "</style>\n",
       "<table id=\"T_86175\">\n",
       "  <thead>\n",
       "    <tr>\n",
       "      <th class=\"blank level0\" >&nbsp;</th>\n",
       "      <th id=\"T_86175_level0_col0\" class=\"col_heading level0 col0\" >price change</th>\n",
       "    </tr>\n",
       "  </thead>\n",
       "  <tbody>\n",
       "    <tr>\n",
       "      <th id=\"T_86175_level0_row0\" class=\"row_heading level0 row0\" >no change in vol</th>\n",
       "      <td id=\"T_86175_row0_col0\" class=\"data row0 col0\" >102.52</td>\n",
       "    </tr>\n",
       "    <tr>\n",
       "      <th id=\"T_86175_level0_row1\" class=\"row_heading level0 row1\" >dynamic vol</th>\n",
       "      <td id=\"T_86175_row1_col0\" class=\"data row1 col0\" >119.48</td>\n",
       "    </tr>\n",
       "  </tbody>\n",
       "</table>\n"
      ],
      "text/plain": [
       "<pandas.io.formats.style.Styler at 0x20287571880>"
      ]
     },
     "execution_count": 104,
     "metadata": {},
     "output_type": "execute_result"
    }
   ],
   "source": [
    "dprices = (blackprices[['shift in rates']] - blackprices.loc['no change in vol','no change in rates']).rename(columns={'shift in rates':'price change'})\n",
    "delta = dprices / SHIFT\n",
    "delta.style.format('{:.2f}')"
   ]
  },
  {
   "cell_type": "markdown",
   "id": "0d296068",
   "metadata": {},
   "source": [
    "### 3.2\n",
    "\n",
    "Now, we consider how the volatility may change with the underlying shift `up` of `50bps`.\n",
    "\n",
    "Using the same SABR parameters from `2.1`, and the strike grid from `2.2`, plot the new SABR curve accounting for the underlying rate shifting `up` `50bps`."
   ]
  },
  {
   "cell_type": "markdown",
   "id": "2fcda8b9",
   "metadata": {},
   "source": [
    "### 3.3\n",
    "\n",
    "Calculate the new volatility specifically for the pre-shift ATM strike.\n",
    "\n",
    "Use this in Black's formula similar to `3.1`, where the only change is the volatility now reflects the shift in the underlying (not the strike).\n",
    "\n",
    "Report\n",
    "* the new price\n",
    "* the change in price divided by `50bps`"
   ]
  },
  {
   "cell_type": "markdown",
   "id": "b1210951",
   "metadata": {},
   "source": [
    "### 3.4\n",
    "\n",
    "How much different is the (dynamic) delta which accounts for the shift in volatility from the (static) delta in `3.1`?"
   ]
  },
  {
   "cell_type": "code",
   "execution_count": 105,
   "id": "c3eebae3",
   "metadata": {},
   "outputs": [
    {
     "data": {
      "text/plain": [
       "'Relative change to delta:  16.54%.'"
      ]
     },
     "metadata": {},
     "output_type": "display_data"
    }
   ],
   "source": [
    "delta_relative_change = delta.pct_change().loc['dynamic vol','price change']\n",
    "display(f'Relative change to delta: {delta_relative_change : .2%}.')"
   ]
  },
  {
   "cell_type": "markdown",
   "id": "ba259807",
   "metadata": {},
   "source": [
    "***"
   ]
  }
 ],
 "metadata": {
  "hide_input": true,
  "kernelspec": {
   "display_name": "base",
   "language": "python",
   "name": "python3"
  },
  "language_info": {
   "codemirror_mode": {
    "name": "ipython",
    "version": 3
   },
   "file_extension": ".py",
   "mimetype": "text/x-python",
   "name": "python",
   "nbconvert_exporter": "python",
   "pygments_lexer": "ipython3",
   "version": "3.12.4"
  }
 },
 "nbformat": 4,
 "nbformat_minor": 5
}
