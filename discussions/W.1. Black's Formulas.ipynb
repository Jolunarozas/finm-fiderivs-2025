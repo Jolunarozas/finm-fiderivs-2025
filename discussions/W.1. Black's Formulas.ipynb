{
 "cells": [
  {
   "cell_type": "markdown",
   "id": "822aaa3b",
   "metadata": {},
   "source": [
    "# Black's Formulas\n",
    "\n",
    "\n",
    "## FINM 37500: Fixed Income Derivatives\n",
    "\n",
    "### Mark Hendricks\n",
    "\n",
    "#### Winter 2025"
   ]
  },
  {
   "cell_type": "markdown",
   "id": "a29065ec",
   "metadata": {},
   "source": [
    "### Notation\n",
    "\n",
    "$$\\newcommand{\\Ern}{E^*}$$\n",
    "$$\\newcommand{\\Efwd}{\\tilde{E}}$$\n",
    "$$\\newcommand{\\hedge}{\\beta}$$\n",
    "$$\\newcommand{\\dt}{\\Delta t}$$\n",
    "\n",
    "$\\newcommand{\\dvd}{D}$\n",
    "$\\newcommand{\\pvdvd}{D^*}$\n",
    "$\\newcommand{\\pvstrike}{K^*}$\n",
    "$\\newcommand{\\strike}{K}$\n",
    "\n",
    "$\\newcommand{\\nargcond}{d_{1}}$\n",
    "$\\newcommand{\\nargexer}{d_{2}}$\n",
    "\n",
    "$\\newcommand{\\EcondS}{\\hat{S}_{\\text{conditional}}}$\n",
    "$\\newcommand{\\probexer}{\\hat{\\mathcal{P}}_{\\text{exercise}}}$"
   ]
  },
  {
   "cell_type": "markdown",
   "id": "5fa5f4e7",
   "metadata": {},
   "source": [
    "***"
   ]
  },
  {
   "cell_type": "markdown",
   "id": "9084fde5",
   "metadata": {},
   "source": [
    "# Black-Scholes Classic Formula\n",
    "\n",
    "We introduced the **Black Scholes** formula in B.5.\n",
    "\n",
    "$\\begin{align}\n",
    "c_t\\; =&\\; S_t\\mathcal{N}(\\nargcond) - \\pvstrike_t \\mathcal{N}\\left(\\nargexer\\right) \\\\\n",
    "p_t\\; =&\\; \\pvstrike_t\\mathcal{N}\\left(-\\nargexer\\right) - S_t \\mathcal{N}(-\\nargcond)\n",
    "\\end{align}$\n",
    "\n",
    "where $\\nargcond$ and $\\nargexer$ are\n",
    "\n",
    "$\\begin{align}\n",
    "\\nargcond = \\frac{\\ln\\left(\\frac{S_t}{\\strike}\\right) + \\left[r + \\frac{\\sigma^2}{2}\\right]T}{\\sigma\\sqrt{T}} \\hspace{1cm} \n",
    "\\nargexer = \\nargcond -\\sigma\\sqrt{T}\n",
    "\\end{align}$\n",
    "\n",
    "and \n",
    "\n",
    "$$K^* = Z K \\; = e^{-rT} K$$"
   ]
  },
  {
   "cell_type": "markdown",
   "id": "2805412c",
   "metadata": {},
   "source": [
    "***"
   ]
  },
  {
   "cell_type": "markdown",
   "id": "c783c5b1",
   "metadata": {},
   "source": [
    "# Black's Model (76)"
   ]
  },
  {
   "cell_type": "markdown",
   "id": "36da8758",
   "metadata": {},
   "source": [
    "## Beyond Black Scholes\n",
    "\n",
    "As you have seen, Black-Scholes is the **baseline model**\n",
    "* not just for pedagogy\n",
    "* hedging\n",
    "* pricing\n",
    "\n",
    "However, we quickly see we need a more general version.\n",
    "\n",
    "### Underlying is not a traded security\n",
    "\n",
    "We use **security** broadly. \n",
    "* Should include any cashflow associated with the investment.\n",
    "\n",
    "Explain\n",
    "* What is a derivative whose underlying is not a security?\n",
    "* What is the problem with this in the BS model?"
   ]
  },
  {
   "cell_type": "markdown",
   "id": "3697445f",
   "metadata": {},
   "source": [
    "## Black's Formula w/ Constant Interest Rates\n",
    "\n",
    "The model assumes \n",
    "* a lognormal distribution of future (forward) prices\n",
    "* constant interest rates\n",
    "\n",
    "It can be derived from the martingale equation\n",
    "$$\\frac{f(F,t)}{B(t)} = \\Ern\\left[\\frac{f(F,T)}{B(T)}\\right]$$\n",
    "\n",
    "\n",
    "$\\begin{align}\n",
    "c_t\\; =&\\; e^{-r(T-t)}\\left[F_t\\mathcal{N}(\\nargcond) - \\strike \\mathcal{N}\\left(\\nargexer\\right)\\right]\\\\\n",
    "p_t\\; =&\\; e^{-r(T-t)}\\left[\\strike\\mathcal{N}(-\\nargexer) - F_t \\mathcal{N}\\left(-\\nargcond\\right)\\right]\n",
    "\\end{align}$\n",
    "\n",
    "where $\\nargcond$ and $\\nargexer$ are\n",
    "\n",
    "$\\begin{align}\n",
    "\\nargcond = \\frac{\\ln\\left(\\frac{F_t}{\\strike}\\right) + \\frac{\\sigma^2}{2}T}{\\sigma\\sqrt{T}} \\hspace{1cm} \n",
    "\\nargexer = \\nargcond -\\sigma\\sqrt{T}\n",
    "\\end{align}$"
   ]
  },
  {
   "cell_type": "markdown",
   "id": "be2ef03c",
   "metadata": {},
   "source": [
    "### What is the difference?\n",
    "\n",
    "This seems exactly like Black Scholes but replacing $S_t$ with $e^{-r(T-t)}F_t$!\n",
    "\n",
    "What is the difference?"
   ]
  },
  {
   "cell_type": "markdown",
   "id": "18ba1928",
   "metadata": {},
   "source": [
    "## Use of Black's Model\n",
    "\n",
    "### European Spot Options\n",
    "\n",
    "We know that at expiration, $F_t=S_t$.\n",
    "* Thus, a European option on either will have the same price, given that they will (surely!) have the same final payoff.\n",
    "\n",
    "What is the advantage then to evaluating the option on the future (forward?)\n",
    "* No need to model dividends!\n",
    "* They are already priced into the forward / future.\n",
    "* Thus, the forward/future price still obeys our model above.\n",
    "\n",
    "### Currency options\n",
    "\n",
    "What is the problem with an option on currency? \n",
    "* Why might its total return not correspond to a GBM of its price?\n",
    "\n",
    "### Consumption investments\n",
    "We learned that many commodities have storage costs, convenience yields, and other forms of carry.\n",
    "* How would this impact the Black-Scholes series."
   ]
  },
  {
   "cell_type": "markdown",
   "id": "6a09c7ef",
   "metadata": {},
   "source": [
    "### Exercise\n",
    "\n",
    "Consider a put on a futures contract on crude oil.\n",
    "* $F_0 = 100$\n",
    "* $K = 100$\n",
    "* $r = 0.025$\n",
    "* $\\sigma = .25$\n",
    "* $T = .25$\n",
    "\n",
    "What is the present value of the put?"
   ]
  },
  {
   "cell_type": "markdown",
   "id": "f15db4a5",
   "metadata": {},
   "source": [
    "### American Futures Options\n",
    "\n",
    "Will traders use futures (and Black's model) to price American spot options?\n",
    "\n",
    "That is to say, for american style,\n",
    "* will a call on a future equal the value of a call on the spot?\n",
    "\n",
    "Consider the case of\n",
    "* contango\n",
    "* backwardation\n",
    "* the future expiring later than the option."
   ]
  },
  {
   "cell_type": "markdown",
   "id": "dc70a0b5",
   "metadata": {},
   "source": [
    "# The General Model"
   ]
  },
  {
   "cell_type": "markdown",
   "id": "93da768e",
   "metadata": {},
   "source": [
    "***"
   ]
  },
  {
   "cell_type": "markdown",
   "id": "db98569c",
   "metadata": {},
   "source": [
    "Black's model above is still not enough.\n",
    "* It assumes constant interest rates.\n",
    "* Clearly this would be an absurd assumption for interest-rate derivatives!\n",
    "\n",
    "## The Complication\n",
    "\n",
    "Allowing for a time-varying interest rate may not seem like a big deal. However, consider the risk-neutral valuation formula from above\n",
    "\n",
    "$$f(r,t) = e^{-r(T-t)}\\Ern[f(r,T)]$$\n",
    "\n",
    "But now the interest rate for discounting is stochastic, so the present-value discounting is more complicated:\n",
    "\n",
    "$$f(r,t) = \\Ern\\left[e^{-\\int_t^Tr(\\tau)d\\tau}f(r,T)\\right]$$\n",
    "\n",
    "The fact that the stochastic variable, $r$, appears in both terms of the product greatly complicates finding the expectation. \n",
    "* Even if we model r as normally or lognormally distributed, this will be a mess."
   ]
  },
  {
   "cell_type": "markdown",
   "id": "96206ff1",
   "metadata": {},
   "source": [
    "## Forward Measures\n",
    "\n",
    "The solution is to switch probability measures.\n",
    "* We relied on the risk-neutral measure to eliminate risk premia.\n",
    "* Other probability measures will change the drift in other ways.\n",
    "\n",
    "By using the so-called **change of numeraire** and Girsanov's Theorem, we can rebase by any traded asset to get a new probability measure.\n",
    "\n",
    "It will induce a martingale of the ratio.\n",
    "\n",
    "#### We choose the zero-coupon bond as the numeraire\n",
    "\n",
    "Thus, we rebase by $Z(t,T)$."
   ]
  },
  {
   "cell_type": "markdown",
   "id": "73f8d4a5",
   "metadata": {},
   "source": [
    "## The Martingale\n",
    "\n",
    "Under the **forward measure**, any derivative of a forward is a martingale:\n",
    "$$\\frac{f(F,t)}{Z(t,T)} = \\Efwd\\left[\\frac{f(F,T)}{Z(T,T)}\\right]$$\n",
    "\n",
    "where $F$ denotes the forward of an arbitrary asset.\n",
    "\n",
    "That is, we have the price as \n",
    "$$f(F,t) = Z(t,T)\\Efwd\\left[f(F,T)\\right]$$\n",
    "\n",
    "Thus, we can discount just with today's discount factor rather than the stochastic interest rate."
   ]
  },
  {
   "cell_type": "markdown",
   "id": "6a0a96f6",
   "metadata": {},
   "source": [
    "## The Formula\n",
    "\n",
    "$\\begin{align}\n",
    "c_t\\; =&\\; Z(t,T)\\left[F_t\\mathcal{N}(\\nargcond) - \\strike \\mathcal{N}\\left(\\nargexer\\right)\\right]\\\\\n",
    "p_t\\; =&\\; Z(t,T)\\left[\\strike\\mathcal{N}(-\\nargexer) - F_t \\mathcal{N}\\left(-\\nargcond\\right)\\right]\n",
    "\\end{align}$\n",
    "\n",
    "where $\\nargcond$ and $\\nargexer$ are\n",
    "\n",
    "$\\begin{align}\n",
    "\\nargcond = \\frac{\\ln\\left(\\frac{F_t}{\\strike}\\right) + \\frac{\\sigma^2}{2}T}{\\sigma\\sqrt{T}} \\hspace{1cm} \n",
    "\\nargexer = \\nargcond -\\sigma\\sqrt{T}\n",
    "\\end{align}$"
   ]
  }
 ],
 "metadata": {
  "hide_input": false,
  "kernelspec": {
   "display_name": "Python 3 (ipykernel)",
   "language": "python",
   "name": "python3"
  },
  "language_info": {
   "codemirror_mode": {
    "name": "ipython",
    "version": 3
   },
   "file_extension": ".py",
   "mimetype": "text/x-python",
   "name": "python",
   "nbconvert_exporter": "python",
   "pygments_lexer": "ipython3",
   "version": "3.9.6"
  }
 },
 "nbformat": 4,
 "nbformat_minor": 5
}
